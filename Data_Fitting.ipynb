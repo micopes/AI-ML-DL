{
  "nbformat": 4,
  "nbformat_minor": 0,
  "metadata": {
    "colab": {
      "name": "Data Fitting",
      "provenance": [],
      "authorship_tag": "ABX9TyPbmi0GXh1U+hpGpwd8gmqn",
      "include_colab_link": true
    },
    "kernelspec": {
      "name": "python3",
      "display_name": "Python 3"
    }
  },
  "cells": [
    {
      "cell_type": "markdown",
      "metadata": {
        "id": "view-in-github",
        "colab_type": "text"
      },
      "source": [
        "<a href=\"https://colab.research.google.com/github/minjcop/AI-ML-DL/blob/master/Data_Fitting.ipynb\" target=\"_parent\"><img src=\"https://colab.research.google.com/assets/colab-badge.svg\" alt=\"Open In Colab\"/></a>"
      ]
    },
    {
      "cell_type": "code",
      "metadata": {
        "id": "8pJtgazfefNA"
      },
      "source": [
        "import numpy as np\n",
        "import matplotlib.pyplot as plt\n",
        "from scipy.optimize import curve_fit"
      ],
      "execution_count": 22,
      "outputs": []
    },
    {
      "cell_type": "code",
      "metadata": {
        "id": "4ohhqKseDN8Y"
      },
      "source": [
        "def func_exp(x, a, b, c) :\n",
        "  return a * np.exp(b * x) + c\n",
        "\n",
        "def func_log(x, a, b, c) :\n",
        "  return a * np.log(b*x) + c\n",
        "\n",
        "def func_poly(x, a, b, c) : \n",
        "  return a *(x**2) + b*x + c\n",
        "\n",
        "def func(x, a, b, c, d) :\n",
        "  return a*np.exp(-(x-b)**2/(2*c**2))\n"
      ],
      "execution_count": 23,
      "outputs": []
    },
    {
      "cell_type": "code",
      "metadata": {
        "id": "9jYJQgkeesib"
      },
      "source": [
        "x1 = np.array([5, 11, 15, 44, 60, 70, 75, 100, 120, 200])\n",
        "x2 = np.array([5, 6, 7, 9, 13, 15, 21, 25, 32, 33])\n",
        "x3 = np.array([5, 11, 12, 17, 26, 37, 45, 60, 70, 72])"
      ],
      "execution_count": 24,
      "outputs": []
    },
    {
      "cell_type": "code",
      "metadata": {
        "id": "GlhOV_v6f5im"
      },
      "source": [
        "y1 = np.array([2.492, 8.330, 11.000, 19.394, 24.466, 27.777, 29.878, 26.952, 35.607, 46.966])\n",
        "y2 = np.array([177, 196, 204, 230, 248, 264, 249, 238, 172, 153])\n",
        "y3 = np.array([2.8, 1.5, 2.45, 3.2, 27.450, 48.8, 64.2, 141.45, 201.45, 226.05])"
      ],
      "execution_count": 25,
      "outputs": []
    },
    {
      "cell_type": "code",
      "metadata": {
        "id": "npIRgiwyft-x",
        "outputId": "04780a78-be8b-46f7-836f-a1398c1ab82a",
        "colab": {
          "base_uri": "https://localhost:8080/",
          "height": 72
        }
      },
      "source": [
        "y1n = y1 + 0.2 * np.random.normal(size = 10)\n",
        "param, param2 = curve_fit(func_log, x1, y1n)"
      ],
      "execution_count": 26,
      "outputs": [
        {
          "output_type": "stream",
          "text": [
            "/usr/local/lib/python3.6/dist-packages/ipykernel_launcher.py:5: RuntimeWarning: invalid value encountered in log\n",
            "  \"\"\"\n"
          ],
          "name": "stderr"
        }
      ]
    },
    {
      "cell_type": "code",
      "metadata": {
        "id": "9TjxcRfee9A8",
        "outputId": "64207061-0714-4ae4-c3d0-e0dc24316c3d",
        "colab": {
          "base_uri": "https://localhost:8080/",
          "height": 265
        }
      },
      "source": [
        "plt.plot(x1, y1n, 'bo')\n",
        "plt.show()"
      ],
      "execution_count": 27,
      "outputs": [
        {
          "output_type": "display_data",
          "data": {
            "image/png": "[encoded data removed]",
            "text/plain": [
              "<Figure size 432x288 with 1 Axes>"
            ]
          },
          "metadata": {
            "tags": [],
            "needs_background": "light"
          }
        }
      ]
    },
    {
      "cell_type": "code",
      "metadata": {
        "id": "_rpR6Mp-W7mQ",
        "outputId": "806ba464-1532-450e-b994-895ce5a96b9f",
        "colab": {
          "base_uri": "https://localhost:8080/",
          "height": 35
        }
      },
      "source": [
        "print(\"param = \", param)\n",
        "a = param[0]\n",
        "b = param[1]\n",
        "c = param[2]"
      ],
      "execution_count": 28,
      "outputs": [
        {
          "output_type": "stream",
          "text": [
            "param =  [ 11.03196699   0.54676083 -11.80692471]\n"
          ],
          "name": "stdout"
        }
      ]
    },
    {
      "cell_type": "code",
      "metadata": {
        "id": "In0BAB-9XAWp",
        "outputId": "42e5c35b-2b5c-4fc2-bf44-75e35612866f",
        "colab": {
          "base_uri": "https://localhost:8080/",
          "height": 70
        }
      },
      "source": [
        "print(\"param2 = \", param2)"
      ],
      "execution_count": 29,
      "outputs": [
        {
          "output_type": "stream",
          "text": [
            "param2 =  [[ 1.55139873e+00  1.66824633e+06 -3.36601302e+07]\n",
            " [ 1.66824628e+06  1.11397292e+13 -2.24765782e+14]\n",
            " [-3.36601293e+07 -2.24765782e+14  4.53508839e+15]]\n"
          ],
          "name": "stdout"
        }
      ]
    },
    {
      "cell_type": "markdown",
      "metadata": {
        "id": "-VhsayTeiqQP"
      },
      "source": [
        ""
      ]
    },
    {
      "cell_type": "code",
      "metadata": {
        "id": "KvhYy5dWacex"
      },
      "source": [
        "y1k = func_log(x1, a, b, c)"
      ],
      "execution_count": 30,
      "outputs": []
    },
    {
      "cell_type": "code",
      "metadata": {
        "id": "4CtiXr0IZwDv",
        "outputId": "a10a33db-5525-480a-e7f6-c2a4084b05d0",
        "colab": {
          "base_uri": "https://localhost:8080/",
          "height": 72
        }
      },
      "source": [
        "x1data = np.linspace(0, 200, 10000)\n",
        "y1data = func_log(x1data, a, b, c)"
      ],
      "execution_count": 31,
      "outputs": [
        {
          "output_type": "stream",
          "text": [
            "/usr/local/lib/python3.6/dist-packages/ipykernel_launcher.py:5: RuntimeWarning: divide by zero encountered in log\n",
            "  \"\"\"\n"
          ],
          "name": "stderr"
        }
      ]
    },
    {
      "cell_type": "code",
      "metadata": {
        "id": "dC2SHpbNO6g_",
        "outputId": "70b02aa6-abb7-4d92-c2e7-b26d8fca636b",
        "colab": {
          "base_uri": "https://localhost:8080/",
          "height": 269
        }
      },
      "source": [
        "plt.axis([-10, 210, -100, 100])\n",
        "plt.plot(x1, y1k, 'bo')\n",
        "plt.plot(x1data, y1data)\n",
        "#plt.plot(x1, y1, 'bo', label = 'data, ae^2(-bx)+c')\n",
        "plt.show()"
      ],
      "execution_count": 32,
      "outputs": [
        {
          "output_type": "display_data",
          "data": {
            "image/png": "[encoded data removed]",
            "text/plain": [
              "<Figure size 432x288 with 1 Axes>"
            ]
          },
          "metadata": {
            "tags": [],
            "needs_background": "light"
          }
        }
      ]
    },
    {
      "cell_type": "code",
      "metadata": {
        "id": "rB7e5lCQIEgS",
        "outputId": "bc5c1a56-3142-41e1-b6f0-ad2bd5410cb2",
        "colab": {
          "base_uri": "https://localhost:8080/",
          "height": 265
        }
      },
      "source": [
        "plt.plot(x2, y2, 'o')\n",
        "plt.show()"
      ],
      "execution_count": 33,
      "outputs": [
        {
          "output_type": "display_data",
          "data": {
            "image/png": "[encoded data removed]",
            "text/plain": [
              "<Figure size 432x288 with 1 Axes>"
            ]
          },
          "metadata": {
            "tags": [],
            "needs_background": "light"
          }
        }
      ]
    },
    {
      "cell_type": "code",
      "metadata": {
        "id": "IUXbxSiMdh_6"
      },
      "source": [
        "y2n = y2 + 0.2 * np.random.normal(size = 10)\n",
        "param, param2 = curve_fit(func_poly, x2, y2n)"
      ],
      "execution_count": 34,
      "outputs": []
    },
    {
      "cell_type": "code",
      "metadata": {
        "id": "Tj38a9TndiMJ",
        "outputId": "7b288c4a-687c-42e4-f4d9-51cd939275c7",
        "colab": {
          "base_uri": "https://localhost:8080/",
          "height": 35
        }
      },
      "source": [
        "print(\"param = \", param)\n",
        "a = param[0]\n",
        "b = param[1]\n",
        "c = param[2]"
      ],
      "execution_count": 35,
      "outputs": [
        {
          "output_type": "stream",
          "text": [
            "param =  [ -0.47057467  16.88347444 109.96115871]\n"
          ],
          "name": "stdout"
        }
      ]
    },
    {
      "cell_type": "code",
      "metadata": {
        "id": "aRbDxgfVdiRI",
        "outputId": "57a3a2ce-55fc-47a9-d2c1-752c089ddcbf",
        "colab": {
          "base_uri": "https://localhost:8080/",
          "height": 70
        }
      },
      "source": [
        "print(\"param2 = \", param2)"
      ],
      "execution_count": 36,
      "outputs": [
        {
          "output_type": "stream",
          "text": [
            "param2 =  [[ 5.65457264e-04 -2.13608716e-02  1.41752352e-01]\n",
            " [-2.13608716e-02  8.37140538e-01 -5.85630074e+00]\n",
            " [ 1.41752352e-01 -5.85630074e+00  4.69050073e+01]]\n"
          ],
          "name": "stdout"
        }
      ]
    },
    {
      "cell_type": "code",
      "metadata": {
        "id": "0IxtS1zhdiWu"
      },
      "source": [
        "y2k = func_poly(x2, a, b, c)"
      ],
      "execution_count": 37,
      "outputs": []
    },
    {
      "cell_type": "code",
      "metadata": {
        "id": "ZxT01x5PdiUw"
      },
      "source": [
        "x2data = np.linspace(0, 40, 10000)\n",
        "y2data = func_poly(x2data, a, b, c)"
      ],
      "execution_count": 38,
      "outputs": []
    },
    {
      "cell_type": "code",
      "metadata": {
        "id": "22q5p0VifFsG",
        "outputId": "2ac85504-4273-4809-c033-59a03946bcea",
        "colab": {
          "base_uri": "https://localhost:8080/",
          "height": 52
        }
      },
      "source": [
        "print(y2k)"
      ],
      "execution_count": 39,
      "outputs": [
        {
          "output_type": "stream",
          "text": [
            "[182.61416421 194.3213173  205.08732106 223.79588056 249.91920752\n",
            " 257.33397499 256.99069332 237.93885216 168.36388067 154.66000168]\n"
          ],
          "name": "stdout"
        }
      ]
    },
    {
      "cell_type": "code",
      "metadata": {
        "id": "LziJGU1qdiOz",
        "outputId": "8c3ebd95-4794-438b-abbb-1996a76bfd96",
        "colab": {
          "base_uri": "https://localhost:8080/",
          "height": 265
        }
      },
      "source": [
        "# plt.axis([0, 40, 150, 300])\n",
        "plt.plot(x2, y2k, 'bo')\n",
        "plt.plot(x2data, y2data)\n",
        "plt.show()"
      ],
      "execution_count": 40,
      "outputs": [
        {
          "output_type": "display_data",
          "data": {
            "image/png": "[encoded data removed]",
            "text/plain": [
              "<Figure size 432x288 with 1 Axes>"
            ]
          },
          "metadata": {
            "tags": [],
            "needs_background": "light"
          }
        }
      ]
    },
    {
      "cell_type": "code",
      "metadata": {
        "id": "Pc_dV_y1diE5"
      },
      "source": [
        ""
      ],
      "execution_count": 40,
      "outputs": []
    },
    {
      "cell_type": "code",
      "metadata": {
        "id": "uhV2B1UoIIsw",
        "outputId": "a0f5cb4f-a371-4120-e045-2b06f253f4db",
        "colab": {
          "base_uri": "https://localhost:8080/",
          "height": 265
        }
      },
      "source": [
        "plt.plot(x3, y3, 'o')\n",
        "plt.show()"
      ],
      "execution_count": 41,
      "outputs": [
        {
          "output_type": "display_data",
          "data": {
            "image/png": "[encoded data removed]",
            "text/plain": [
              "<Figure size 432x288 with 1 Axes>"
            ]
          },
          "metadata": {
            "tags": [],
            "needs_background": "light"
          }
        }
      ]
    },
    {
      "cell_type": "code",
      "metadata": {
        "id": "Gsijlw19a7MS"
      },
      "source": [
        "y3n = y3 + 0.2 * np.random.normal(size = 10)\n",
        "param, param2 = curve_fit(func_exp, x3, y3n)"
      ],
      "execution_count": 42,
      "outputs": []
    },
    {
      "cell_type": "code",
      "metadata": {
        "id": "lHX19Lxma7rP",
        "outputId": "e22ede5b-b4b1-4848-acba-8302dad1ac7f",
        "colab": {
          "base_uri": "https://localhost:8080/",
          "height": 35
        }
      },
      "source": [
        "print(\"param = \", param)\n",
        "a = param[0]\n",
        "b = param[1]\n",
        "c = param[2]"
      ],
      "execution_count": 43,
      "outputs": [
        {
          "output_type": "stream",
          "text": [
            "param =  [5.75028362e-14 1.00000001e+00 2.01961284e+08]\n"
          ],
          "name": "stdout"
        }
      ]
    },
    {
      "cell_type": "code",
      "metadata": {
        "id": "5qVsuO53a8AS",
        "outputId": "97b4c822-ee29-4669-99c0-a629735d7840",
        "colab": {
          "base_uri": "https://localhost:8080/",
          "height": 70
        }
      },
      "source": [
        "print(\"param2 = \", param2)"
      ],
      "execution_count": 44,
      "outputs": [
        {
          "output_type": "stream",
          "text": [
            "param2 =  [[3.46258196e-23 2.12514643e-18 2.28496768e-08]\n",
            " [2.12514643e-18 1.30431828e-13 1.40240930e-03]\n",
            " [2.28496768e-08 1.40240930e-03 3.32353173e+34]]\n"
          ],
          "name": "stdout"
        }
      ]
    },
    {
      "cell_type": "code",
      "metadata": {
        "id": "Nhhm-tgxa8Ju"
      },
      "source": [
        "y3k = func_exp(x3, a, b, c)"
      ],
      "execution_count": 45,
      "outputs": []
    },
    {
      "cell_type": "code",
      "metadata": {
        "id": "ddYOqCgSa8Nx"
      },
      "source": [
        "x3data = np.linspace(0, 73, 10000)\n",
        "y3data = func_exp(x3data, a, b, c)"
      ],
      "execution_count": 46,
      "outputs": []
    },
    {
      "cell_type": "code",
      "metadata": {
        "id": "M2lrX_hla8QL",
        "outputId": "b948dd29-956e-4a7e-8f8a-5f4701e68d5b",
        "colab": {
          "base_uri": "https://localhost:8080/",
          "height": 331
        }
      },
      "source": [
        "plt.figure(figsize = (10, 5))\n",
        "plt.plot(x3, y3k, 'bo')\n",
        "plt.plot(x3data, y3data)\n",
        "plt.show()"
      ],
      "execution_count": 47,
      "outputs": [
        {
          "output_type": "display_data",
          "data": {
            "image/png": "[encoded data removed]",
            "text/plain": [
              "<Figure size 720x360 with 1 Axes>"
            ]
          },
          "metadata": {
            "tags": [],
            "needs_background": "light"
          }
        }
      ]
    },
    {
      "cell_type": "code",
      "metadata": {
        "id": "jQv3WVzla8L7"
      },
      "source": [
        ""
      ],
      "execution_count": 47,
      "outputs": []
    },
    {
      "cell_type": "code",
      "metadata": {
        "id": "Fh-3UStba8FD"
      },
      "source": [
        ""
      ],
      "execution_count": null,
      "outputs": []
    },
    {
      "cell_type": "code",
      "metadata": {
        "id": "xHKiDIpMa751"
      },
      "source": [
        ""
      ],
      "execution_count": null,
      "outputs": []
    },
    {
      "cell_type": "code",
      "metadata": {
        "id": "NljO0Q2xa7eO"
      },
      "source": [
        ""
      ],
      "execution_count": null,
      "outputs": []
    }
  ]
}