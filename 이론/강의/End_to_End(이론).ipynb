{
  "nbformat": 4,
  "nbformat_minor": 0,
  "metadata": {
    "colab": {
      "name": "End-to-End(이론)",
      "provenance": []
    },
    "kernelspec": {
      "name": "python3",
      "display_name": "Python 3"
    }
  },
  "cells": [
    {
      "cell_type": "markdown",
      "metadata": {
        "id": "NImY646g14ft"
      },
      "source": [
        "## Review"
      ]
    },
    {
      "cell_type": "markdown",
      "metadata": {
        "id": "tM8_VOLD1-7l"
      },
      "source": [
        "머신러닝이란\r\n",
        "- 어떤 작업 T에 대한 컴퓨터 프로그램의 성능을 P로 측정했을 때 경험 E로 인해 성능이 향상됐다면, 이 컴퓨터 프로그램은 작업 T와 성능 측정 P에 대해 경험 E로 학습한 것이다.\r\n",
        "\r\n",
        "T, P, E\r\n",
        "- 다 이런 것은 아님."
      ]
    },
    {
      "cell_type": "markdown",
      "metadata": {
        "id": "PqP0WJCD1-5H"
      },
      "source": [
        "- 분류\r\n",
        "  - 여러 클래스 레이블 중 하나를 예측\r\n",
        "- 회귀\r\n",
        "  - 연속적인 숫자(실수)를 예측하는 것"
      ]
    },
    {
      "cell_type": "markdown",
      "metadata": {
        "id": "6jMChAk31-26"
      },
      "source": [
        "# 머신러닝 End-to-End"
      ]
    },
    {
      "cell_type": "markdown",
      "metadata": {
        "id": "7FUl_NHE1-0p"
      },
      "source": [
        "머신러닝 주요 단계\r\n",
        "1. (명확히) 문제 정의(T)\r\n",
        "2. 데이터 수집(E)\r\n",
        "3. 데이터에서 통찰을 얻기 위한 데이터 탐색 및 시각화\r\n",
        "4. 머신러닝 알고리즘을 위해 데이터 준비\r\n",
        "5. 머신러닝 알고리즘을 선택하고 훈련 및 평가(P)\r\n",
        "6. 머신러닝 알고리즘을 상세하게 조정(P)\r\n",
        "7. 문제에 대한 해결책을 제안\r\n",
        "8. **서비스 진행 및 유지보수**"
      ]
    },
    {
      "cell_type": "markdown",
      "metadata": {
        "id": "vqdgLb9N1-yl"
      },
      "source": [
        "### 1. 문제 정의"
      ]
    },
    {
      "cell_type": "markdown",
      "metadata": {
        "id": "G2oaXbS18Oit"
      },
      "source": [
        "- 가장 중요한 질문\r\n",
        "  - \"문제의 목적은 무엇인가?\"\r\n",
        "  - \"우리는 어떤 목적을 가지고, 문제를 해결해야 하는가?\"\r\n",
        "- 모델을 '만드는 것'이 최종 목적이 아니라, 문제를 해결하는게 '머신러닝'의 가장 큰 주제\r\n",
        "- 목적은 문제를 규정하고, 알고리즘을 제한하며, 평가 및 성능 지표에 영향을 주며, 자원을 결정함\r\n",
        "- T/P/E에 대한 모든 것은 문제 정의에서 결정됨\r\n",
        "\r\n",
        "  - 삼성전자는 어떤 문제를 풀고 싶어 할까? \r\n",
        "  - 넷플릭스는 어떤 문제를 가지고 있을까?.."
      ]
    },
    {
      "cell_type": "markdown",
      "metadata": {
        "id": "taJVwmYA1-wT"
      },
      "source": [
        "### 2. 데이터 수집(E)\r\n"
      ]
    },
    {
      "cell_type": "markdown",
      "metadata": {
        "id": "lvym0w5e8LzB"
      },
      "source": [
        "- 데이터를 수집하는 모든 과정은 데이터를 활용하기 위한 재생산 과정의 일환으로 인식\r\n",
        "\r\n",
        "- 존재론적 특징\r\n",
        "  - 정성적\r\n",
        "    - 비정형 데이터\r\n",
        "    - 함의된 정보를 가짐\r\n",
        "    - 언어, 문자 등으로 이루어짐\r\n",
        "    - 파일 웹\r\n",
        "  - 정량적\r\n",
        "    - 정형, 반정형 데이터\r\n",
        "    - 속성이 모여서 객체를 이룸\r\n",
        "    - 수치, 도형, 기호 등으로 이뤄짐\r\n",
        "    - 데이터베이스, 스프레드시트\r\n",
        "- 목적론적 특징\r\n",
        "  - **데이터 분석**을 위해서 데이터가 존재하고 있는지, 아니면 **서비스에 사용**되기 위해서 데이터가 존재하는지 해당 데이터의 존재 이유를 인식\r\n",
        "  - **목적**에 따라서 데이터의 특징을 분류해야 하고, **관점**에 따라 데이터를 여러 형태로 인식해야 함\r\n",
        "  - 대부분 원본 데이터의 속성을 분리, 병합 등에 필요한 특징\r\n",
        "---------------------------------------------\r\n",
        "- 가역적 데이터\r\n",
        "  - 생산된 데이터의 원본으로 일정 수준 환원이 가능\r\n",
        "  - 원본 데이터의 내용이 변경된 경우 변경 이력을 추적할 수 있음\r\n",
        "  - 원본 데이터의 흔적이 재생산된 데이터에도 남아 있음 -> 원본 데이터에 의존적임\r\n",
        "\r\n",
        "- 불가역적 데이터\r\n",
        "  - 원본으로 환원이 불가능함\r\n",
        "  - 원본 데이터와 전혀 다른 형태로 재생산되기 때문에 원본 데이터에 대한 추적이 불가능\r\n",
        "  - 원본 데이터의 내용이 변경되더라도 재생산된 데이터에는 아무런 영향을 미치지 않음 -> 원본 데이터에 독립적임\r\n",
        "---------------------------------------------\r\n",
        "- 데이터 수집 요소\r\n",
        "  - 서비스 형태\r\n",
        "    - 제공하는 서비스의 형태에 따라서 원천 데이터가 결정\r\n",
        "    - 수집 안정성과 비용, 난이도를 결정\r\n",
        "  - 데이터 위치\r\n",
        "    - 내부 데이터 (갖고 있는 데이터)\r\n",
        "    - 외부 데이터\r\n",
        "  - 주기성\r\n",
        "    - 실시간 vs 배치\r\n",
        "  - 저장 형태\r\n",
        "    - 파일 vs DBMS\r\n",
        "    - 단일 vs 분산"
      ]
    },
    {
      "cell_type": "markdown",
      "metadata": {
        "id": "4m61W7878gcr"
      },
      "source": [
        "### 3. 데이터 탐색 및 시각화"
      ]
    },
    {
      "cell_type": "markdown",
      "metadata": {
        "id": "jccO8IKX8jyh"
      },
      "source": [
        "탐색적 데이터 분석(EDA, Exploratory Data Analysis)\r\n",
        "- EDA의 필요성\r\n",
        "  - 데이터가 표현하는 현상을 잘 이해하고, 데이터에 대한 잠재적인 문제를 발견\r\n",
        "  - 데이터 품질에 대한 신뢰성 확보\r\n",
        "  - 다양한 패턴, 가설 검증 혹은 새로운 가설 제시\r\n",
        "  - 통계적 추론 및 예측 모델을 만들 때 기반 자료\r\n",
        "\r\n",
        "EDA 절차\r\n",
        "1. 문제 정의를 기반으로 한 분석 계획\r\n",
        "2. 데이터 관찰(통계, 시각화 등)\r\n",
        "  - 전체 데이터\r\n",
        "  - 개별 데이터\r\n",
        "3. 요인 추가 및 가설 검증, 변경\r\n",
        "4. 패턴 및 가설 확정\r\n"
      ]
    },
    {
      "cell_type": "markdown",
      "metadata": {
        "id": "gX09sAjh9Wiv"
      },
      "source": [
        "### 4. 머신러닝 알고리즘을 위해 데이터 준비\r\n"
      ]
    },
    {
      "cell_type": "markdown",
      "metadata": {
        "id": "OX0bnrhF-LWZ"
      },
      "source": [
        "- 머신러닝 알고리즘을 위한 데이터 준비\r\n",
        "  - 머신러닝 알고리즘을 위해 데이터를 준비하기 위해선 자동화가 필수\r\n",
        "\r\n",
        "- **학습과 테스트 셋을 분리**\r\n",
        "  - train/test(train/validation)으로 데이터를 분리하는 이유는 머신러닝 모델에 train 데이터를 100% 학습시킨 후 test 데이터에 적용하였을 때 성능이 생각보다 잘 나오지 않는 것 : Overfitting"
      ]
    },
    {
      "cell_type": "markdown",
      "metadata": {
        "id": "GIgw7VRl9a7j"
      },
      "source": [
        "### 5. 알고리즘을 선택하고 훈련 및 평가(P)\r\n"
      ]
    },
    {
      "cell_type": "markdown",
      "metadata": {
        "id": "ucWemKCL-GqD"
      },
      "source": [
        "- 문제 정의에 알맞는 알고리즘 선택 후 훈련하고 평가\r\n",
        "  - 회귀나 분류에 알맞는 알고리즘을 선택\r\n",
        "  - 다양한 알고리즘을 선정해서 테스트 진행\r\n",
        "- 검증\r\n",
        "  - 모델이 과적합되었거나, 과소적합되지 않았는지를 검증하는 과정이 필수\r\n",
        "  - ex) **k-fold cross validation** 기능을 사용"
      ]
    },
    {
      "cell_type": "markdown",
      "metadata": {
        "id": "RJdgdGi0-Gmo"
      },
      "source": [
        "### 6. 알고리즘을 상세하게 조정(P)\r\n"
      ]
    },
    {
      "cell_type": "markdown",
      "metadata": {
        "id": "8Kg1FfRm-fkD"
      },
      "source": [
        "- 가능성 있는 모델의 세부적인 성능을 올리기 위해서 튜닝을 시작\r\n",
        "  - **그리드 탐색**\r\n",
        "  - 랜덤 탐색(randomized search)\r\n",
        "  - 앙상블 방법"
      ]
    },
    {
      "cell_type": "markdown",
      "metadata": {
        "id": "3rw3YGAg-eZ2"
      },
      "source": [
        "### 7. 문제에 대한 해결책을 제안\r\n"
      ]
    },
    {
      "cell_type": "markdown",
      "metadata": {
        "id": "-w_B_ZM1-eXw"
      },
      "source": [
        "- 보고서 작성\r\n",
        "  - 해당 문제를 해결하기 위한 방안을 제시\r\n",
        "  - 가설 및 검증 결과, 시각화 등을 사용해서 해당 문제에 대한 주장 및 제안을 제시\r\n"
      ]
    },
    {
      "cell_type": "markdown",
      "metadata": {
        "id": "0Iw6n0y5-eVS"
      },
      "source": [
        "### 8.서비스 진행 및 유지 보수\r\n"
      ]
    },
    {
      "cell_type": "markdown",
      "metadata": {
        "id": "XmaJsq2_-eSy"
      },
      "source": [
        "- 서비스 런칭 및 유지 보수\r\n",
        "  - 해당 문제 해결을 위한 서비스 런칭\r\n",
        "  - 서비스 품질 향상 및 유지"
      ]
    },
    {
      "cell_type": "markdown",
      "metadata": {
        "id": "IwFajoAF-GaK"
      },
      "source": [
        ""
      ]
    }
  ]
}