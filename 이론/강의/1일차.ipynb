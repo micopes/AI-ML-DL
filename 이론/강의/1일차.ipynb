{
 "cells": [
  {
   "cell_type": "markdown",
   "metadata": {},
   "source": [
    "#### 인공지능 이란?\n",
    "- 우리가 하는 인공지능은 ***합리*** 적 추론"
   ]
  },
  {
   "cell_type": "markdown",
   "metadata": {},
   "source": [
    "#### 인공지능의 역사"
   ]
  },
  {
   "cell_type": "markdown",
   "metadata": {},
   "source": [
    "기초 심리학과 뉴런(뇌)의 형식 분석(1943 - 1955)\n",
    "- 마빈 민스키와 딘 에드먼즈 -> 최초의 신경망 컴퓨터\n",
    "- 앨런 튜링의 계산 이론 (최초의 컴퓨터)"
   ]
  },
  {
   "cell_type": "markdown",
   "metadata": {},
   "source": [
    "매컬릭과 피츠의 신경망에 기초한 초기 연구 제안(1970년도 전)\n",
    "- 퍼셉트론 수렴 정리\n",
    "- 신경망 -> 퍼셉트론"
   ]
  },
  {
   "cell_type": "markdown",
   "metadata": {},
   "source": [
    "초기의 어려움 XOR을 풀 수 없다.\n",
    "- 퍼셉트론으로는 선형 연산을 아무리 수행해도 계속 선형 연산이므로 비선형적인 문제를 풀 수 없음(퍼셉트론으로 풀 수 있는 문제가 제한적이라고 생각\n",
    "- 지식 기반 시스템의 등장\n",
    "    - 지식과 추론 구성요소를 분리\n",
    "    - 자연어 이해(NLP)의 중요도가 높아짐"
   ]
  },
  {
   "cell_type": "markdown",
   "metadata": {},
   "source": [
    "1980 - 2000\n",
    "- 역전파 알고리즘이 재조명됨\n",
    "- 신경망, Bayes와 은닉 마르코프와 같은 확률 모형 등을 활용해서 다양한 곳에서 적용되기 시작\n",
    "\n"
   ]
  },
  {
   "cell_type": "markdown",
   "metadata": {},
   "source": [
    "2000 ~ 현재\n",
    "- 거대 규모 자료를 이용\n",
    "- 계산 복잡도를 해결\n",
    "- 지능적 에이전트 기반의 연구(알파고)가 활발히 연구됨"
   ]
  },
  {
   "cell_type": "markdown",
   "metadata": {},
   "source": [
    "#### 핵심!"
   ]
  },
  {
   "cell_type": "markdown",
   "metadata": {},
   "source": [
    "**신경망 -> 퍼셉트론 -> 역전파 -> 알파고**"
   ]
  },
  {
   "cell_type": "markdown",
   "metadata": {},
   "source": [
    "고민 \n",
    "- 퍼셉트론이 왜 안되었는지? - 개별적인 규칙이 워낙 많아서.\n",
    "\n",
    "해결\n",
    "- 기계가 학습하게 만든다 -> 머신러닝"
   ]
  },
  {
   "cell_type": "markdown",
   "metadata": {},
   "source": [
    "### 강(Strong) 인공지능과 약(Weak) 인공지능\n",
    "- 머신러닝은 인공지능의 한 종류\n",
    "    - 강 인공지능\n",
    "        - 사람과 구분이 안 될 정도로 강한 성능을 가진 인공지능\n",
    "    - 약 인공지능\n",
    "        - "
   ]
  },
  {
   "cell_type": "markdown",
   "metadata": {},
   "source": [
    "### 머신러닝의 정의"
   ]
  },
  {
   "cell_type": "markdown",
   "metadata": {},
   "source": []
  },
  {
   "cell_type": "markdown",
   "metadata": {},
   "source": [
    "### 딥러닝 < 머신러닝 < AI"
   ]
  },
  {
   "cell_type": "markdown",
   "metadata": {},
   "source": [
    "딥러닝은 머신러닝 알고리즘 중 하나인 인공**신경망**(artificial neural network)"
   ]
  },
  {
   "cell_type": "markdown",
   "metadata": {},
   "source": [
    "딥러닝은 머신러닝에서 처리가 힘든 데이터\n",
    "- 이미지/영상, 음성/소리, 텍스트/번역 등의 **비정형** 데이터는 딥러닝\n",
    "- 데이터베이스, 레코드, 파일, 엑셀/CSV 등과 같은 **정형** 데이터는 머신러닝\n"
   ]
  },
  {
   "cell_type": "code",
   "execution_count": null,
   "metadata": {},
   "outputs": [],
   "source": []
  }
 ],
 "metadata": {
  "kernelspec": {
   "display_name": "Python 3",
   "language": "python",
   "name": "python3"
  },
  "language_info": {
   "codemirror_mode": {
    "name": "ipython",
    "version": 3
   },
   "file_extension": ".py",
   "mimetype": "text/x-python",
   "name": "python",
   "nbconvert_exporter": "python",
   "pygments_lexer": "ipython3",
   "version": "3.8.3"
  }
 },
 "nbformat": 4,
 "nbformat_minor": 4
}
