{
  "nbformat": 4,
  "nbformat_minor": 0,
  "metadata": {
    "colab": {
      "name": "SVM(실습).ipynb",
      "provenance": [],
      "collapsed_sections": [],
      "toc_visible": true
    },
    "kernelspec": {
      "name": "python3",
      "display_name": "Python 3"
    }
  },
  "cells": [
    {
      "cell_type": "markdown",
      "metadata": {
        "id": "qjMogjKjF82n"
      },
      "source": [
        "# SVM"
      ]
    },
    {
      "cell_type": "code",
      "metadata": {
        "id": "LVjOVADUGuwv"
      },
      "source": [
        "# 사용할 데이터셋\r\n",
        "from sklearn.datasets import load_boston, load_breast_cancer\r\n",
        "\r\n",
        "# 머신러닝용 데이터\r\n",
        "from sklearn.model_selection import train_test_split\r\n",
        "\r\n",
        "# 사용할 모델\r\n",
        "from sklearn.svm import SVC, SVR"
      ],
      "execution_count": 4,
      "outputs": []
    },
    {
      "cell_type": "markdown",
      "metadata": {
        "id": "OcezUfjlF8tI"
      },
      "source": [
        "## 분류(SVC)"
      ]
    },
    {
      "cell_type": "code",
      "metadata": {
        "colab": {
          "base_uri": "https://localhost:8080/"
        },
        "id": "cAqB3Yl2HjD7",
        "outputId": "90e48ca9-2c10-4528-c16c-80d463888a08"
      },
      "source": [
        "# 1. 데이터 셋 불러오기 data, target 나눠서 담기\r\n",
        "X, y = load_breast_cancer(return_X_y = True)\r\n",
        "# print(X.shape, y.shape)\r\n",
        "\r\n",
        "# 2. 데이터 셋 train/test로 나누기\r\n",
        "X_train, X_test, y_train, y_test = train_test_split(X, y)\r\n",
        "# print(X_train.shape, y_train.shape)\r\n",
        "\r\n",
        "# 3. 학습\r\n",
        "model = SVC(kernel = 'linear') # default는 비선형 => kernel = 'linear'를 통해 선형으로 조정\r\n",
        "model.fit(X_train, y_train) # default가 kernel trick 사용한 것.\r\n",
        "\r\n",
        "# 4. 평가(학습 평가/예측 평가)\r\n",
        "print(f\"학습 : {model.score(X_train, y_train)}\")\r\n",
        "print(f\"예측 : {model.score(X_test, y_test)}\")\r\n"
      ],
      "execution_count": 17,
      "outputs": [
        {
          "output_type": "stream",
          "text": [
            "학습 : 0.9694835680751174\n",
            "예측 : 0.9440559440559441\n"
          ],
          "name": "stdout"
        }
      ]
    },
    {
      "cell_type": "markdown",
      "metadata": {
        "id": "qC4C8w7sF_xL"
      },
      "source": [
        "## 회귀"
      ]
    },
    {
      "cell_type": "code",
      "metadata": {
        "colab": {
          "base_uri": "https://localhost:8080/"
        },
        "id": "smWMKNlMKW7i",
        "outputId": "da4887b6-50fe-4d2e-b3e3-1b32d7b8fa9a"
      },
      "source": [
        "# 1. 데이터 셋 불러오기 data, target 나눠서 담기\r\n",
        "X, y = load_boston(return_X_y = True)\r\n",
        "\r\n",
        "# 2. 데이터 셋 train/test로 나누기\r\n",
        "X_train, X_test, y_train, y_test = train_test_split(X, y)\r\n",
        "\r\n",
        "# 3. 학습\r\n",
        "''' 선형 데이터, 정제 데이터에 비선형을 적용하면 \r\n",
        "선형보다 오히려 성능이 감소할 수 있다.'''\r\n",
        "model = SVR(kernel = 'linear')\r\n",
        "model.fit(X_train, y_train)\r\n",
        "\r\n",
        "# 4. 평가(학습 평가/예측 평가)\r\n",
        "print(f\"학습 : {model.score(X_train, y_train)}\")\r\n",
        "print(f\"예측 : {model.score(X_test, y_test)}\")"
      ],
      "execution_count": 18,
      "outputs": [
        {
          "output_type": "stream",
          "text": [
            "학습 : 0.6920647534420035\n",
            "예측 : 0.7371883844740066\n"
          ],
          "name": "stdout"
        }
      ]
    },
    {
      "cell_type": "markdown",
      "metadata": {
        "id": "EEeHAfRLGCJY"
      },
      "source": [
        "## 비선형 SVM"
      ]
    },
    {
      "cell_type": "markdown",
      "metadata": {
        "id": "7h6d0Rq-GCMD"
      },
      "source": [
        "### 분류"
      ]
    },
    {
      "cell_type": "code",
      "metadata": {
        "colab": {
          "base_uri": "https://localhost:8080/"
        },
        "id": "Igh_CfrkM9Uy",
        "outputId": "aae29a44-ab16-4843-f75f-31557b0f1933"
      },
      "source": [
        "# 1. 데이터 셋 불러오기 data, target 나눠서 담기\r\n",
        "X, y = load_breast_cancer(return_X_y = True)\r\n",
        "# print(X.shape, y.shape)\r\n",
        "\r\n",
        "# 2. 데이터 셋 train/test로 나누기\r\n",
        "X_train, X_test, y_train, y_test = train_test_split(X, y)\r\n",
        "# print(X_train.shape, y_train.shape)\r\n",
        "\r\n",
        "# 3-1. 다항식 특성 추가\r\n",
        "model = SVC(kernel = 'poly')\r\n",
        "model.fit(X_train, y_train)\r\n",
        "\r\n",
        "# 3-2. 다항식 특성 추가 평가(학습 평가/예측 평가)\r\n",
        "print(f\"학습 : {model.score(X_train, y_train)}\")\r\n",
        "print(f\"예측 : {model.score(X_test, y_test)}\")\r\n",
        "\r\n",
        "# 4-1. RBF 커널 트릭\r\n",
        "model = SVC(kernel = 'rbf')\r\n",
        "model.fit(X_train, y_train)\r\n",
        "\r\n",
        "# 4-2. RBF 커널 트릭 평가\r\n",
        "print(f\"학습 : {model.score(X_train, y_train)}\")\r\n",
        "print(f\"예측 : {model.score(X_test, y_test)}\")"
      ],
      "execution_count": 19,
      "outputs": [
        {
          "output_type": "stream",
          "text": [
            "학습 : 0.9107981220657277\n",
            "예측 : 0.9090909090909091\n",
            "학습 : 0.9154929577464789\n",
            "예측 : 0.916083916083916\n"
          ],
          "name": "stdout"
        }
      ]
    },
    {
      "cell_type": "markdown",
      "metadata": {
        "id": "kDejCYRcNngE"
      },
      "source": [
        "### 회귀"
      ]
    },
    {
      "cell_type": "code",
      "metadata": {
        "colab": {
          "base_uri": "https://localhost:8080/"
        },
        "id": "MmKXLy4ZNmS3",
        "outputId": "d1acf4a0-2cb3-472c-9823-c854f8c4020d"
      },
      "source": [
        "# 1. 데이터 셋 불러오기 data, target 나눠서 담기\r\n",
        "X, y = load_boston(return_X_y = True)\r\n",
        "\r\n",
        "# 2. 데이터 셋 train/test로 나누기\r\n",
        "X_train, X_test, y_train, y_test = train_test_split(X, y)\r\n",
        "\r\n",
        "# 3-1. 다항 특성 추가\r\n",
        "model = SVR(kernel = 'poly')\r\n",
        "model.fit(X_train, y_train)\r\n",
        "\r\n",
        "# 3-2. 다항 특성 추가 평가\r\n",
        "print(f\"학습 : {model.score(X_train, y_train)}\")\r\n",
        "print(f\"예측 : {model.score(X_test, y_test)}\")\r\n",
        "\r\n",
        "# 4-1. RBF 커널 트릭\r\n",
        "model = SVR(kernel = 'rbf')\r\n",
        "model.fit(X_train, y_train)\r\n",
        "\r\n",
        "# 4-2. RBF 커널 추가 평가\r\n",
        "print(f\"학습 : {model.score(X_train, y_train)}\")\r\n",
        "print(f\"예측 : {model.score(X_test, y_test)}\")"
      ],
      "execution_count": 21,
      "outputs": [
        {
          "output_type": "stream",
          "text": [
            "학습 : 0.19695296628633996\n",
            "예측 : 0.27245116787804724\n",
            "학습 : 0.18736760182924528\n",
            "예측 : 0.2902307327185887\n"
          ],
          "name": "stdout"
        }
      ]
    },
    {
      "cell_type": "markdown",
      "metadata": {
        "id": "Nnsw3CRTGCcG"
      },
      "source": [
        "### 매개변수"
      ]
    },
    {
      "cell_type": "markdown",
      "metadata": {
        "id": "ZSu2dRpaGCe-"
      },
      "source": [
        "* kernel\r\n",
        "  * poly(degree)\r\n",
        "    * degree는 차수\r\n",
        "  * rbf(gamma)\r\n",
        "    * gamma(가우시안 함수의 표준편차)\r\n",
        "      * gamma가 클수록 데이터들이 가지는 거리가 짧아짐(반비례)\r\n",
        "      * gamma가 작을수록 데이터들이 가지는 거리가 넓어짐\r\n",
        "* 하드마진 vs 소프트마진\r\n",
        "  * C (default = 0.1)\r\n",
        "    * C를 낮게 설정하면 => 이상치가 존재함(소프트 마진) => 너무 낮으면 과소적합 \r\n",
        "    * C를 높게 설정하면 => 이상치가 없음! (하드 마진) => 너무 높으면 과대적합 "
      ]
    },
    {
      "cell_type": "code",
      "metadata": {
        "colab": {
          "base_uri": "https://localhost:8080/"
        },
        "id": "bRcGE74TQj7Z",
        "outputId": "56ea89b3-eeca-4ece-94c8-3a44d504101a"
      },
      "source": [
        "# 1. 데이터 셋 불러오기 data, target 나눠서 담기\r\n",
        "X, y = load_breast_cancer(return_X_y = True)\r\n",
        "# print(X.shape, y.shape)\r\n",
        "\r\n",
        "# 2. 데이터 셋 train/test로 나누기\r\n",
        "X_train, X_test, y_train, y_test = train_test_split(X, y)\r\n",
        "\r\n",
        "# 3-1. 다항식 특성 추가\r\n",
        "model = SVC(kernel = 'poly', degree = 4)\r\n",
        "model.fit(X_train, y_train)\r\n",
        "\r\n",
        "# 3-2. 다항식 특성 추가 평가(학습 평가/예측 평가)\r\n",
        "print(f\"학습 : {model.score(X_train, y_train)}\")\r\n",
        "print(f\"예측 : {model.score(X_test, y_test)}\")\r\n",
        "\r\n",
        "# 4-1. RBF 커널 트릭\r\n",
        "model = SVC(kernel = 'rbf', gamma = 'scale')\r\n",
        "model.fit(X_train, y_train)\r\n",
        "\r\n",
        "# 4-2. RBF 커널 트릭 평가\r\n",
        "print(f\"학습 : {model.score(X_train, y_train)}\")\r\n",
        "print(f\"예측 : {model.score(X_test, y_test)}\")\r\n",
        "\r\n",
        "# 5-1. C값 조정\r\n",
        "model = SVC(kernel = 'rbf', C = 0.1)\r\n",
        "model.fit(X_train, y_train)\r\n",
        "\r\n",
        "# 5-2. C값 조정 평가\r\n",
        "print(f\"학습 : {model.score(X_train, y_train)}\")\r\n",
        "print(f\"예측 : {model.score(X_test, y_test)}\")"
      ],
      "execution_count": 25,
      "outputs": [
        {
          "output_type": "stream",
          "text": [
            "학습 : 0.903755868544601\n",
            "예측 : 0.9300699300699301\n",
            "학습 : 0.9061032863849765\n",
            "예측 : 0.9440559440559441\n",
            "학습 : 0.8779342723004695\n",
            "예측 : 0.9230769230769231\n"
          ],
          "name": "stdout"
        }
      ]
    },
    {
      "cell_type": "markdown",
      "metadata": {
        "id": "b4ARtVMUGCje"
      },
      "source": [
        ""
      ]
    },
    {
      "cell_type": "markdown",
      "metadata": {
        "id": "dZzFEsu1GCnL"
      },
      "source": [
        ""
      ]
    },
    {
      "cell_type": "markdown",
      "metadata": {
        "id": "ScICyNdnGCqg"
      },
      "source": [
        ""
      ]
    },
    {
      "cell_type": "code",
      "metadata": {
        "id": "CCc9agETF7y3"
      },
      "source": [
        ""
      ],
      "execution_count": null,
      "outputs": []
    }
  ]
}