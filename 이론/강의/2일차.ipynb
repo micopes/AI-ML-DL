{
 "cells": [
  {
   "cell_type": "markdown",
   "metadata": {},
   "source": [
    "### 머신러닝의 정의"
   ]
  },
  {
   "cell_type": "markdown",
   "metadata": {},
   "source": [
    "어떤 **작업 T**에 대한 컴퓨터 프로그램의 성능을 **P**로 측정했을 때(수치화 시킬 수 있는 것), \n",
    "\n",
    "**경험 E**로 인해 성능이 향상됐다면, \n",
    "\n",
    "이 컴퓨터 프로그램은 **작업 T**와 **성능 측정 P**에 대해 **경험 E**로 학습한 것이다. - Tom Mitchell\n",
    "\n",
    "T P E로 정의되는 것이 머신러닝"
   ]
  },
  {
   "cell_type": "markdown",
   "metadata": {},
   "source": [
    "성능 측정 기준을 가지고 있고, 데이터를 통해 성능을 향상시킬 수 있으면 머신러닝이다."
   ]
  },
  {
   "cell_type": "markdown",
   "metadata": {},
   "source": [
    "영화 추천(T) -> 좋아요 수(P)\n",
    "경험(E) 어떤 것을 해야 좋아요 수(P)를 많이 받는가?"
   ]
  },
  {
   "cell_type": "markdown",
   "metadata": {},
   "source": [
    "# *** 중요 ***"
   ]
  },
  {
   "cell_type": "markdown",
   "metadata": {},
   "source": [
    "### 데이터가 없다면?\n",
    "- 데이터를 넣어야 되도록 강제하는 것\n",
    "    - 종료되면 좋아요를 누르면 데이터를 생성해서 주는 것\n",
    "    - 애플 뮤직 같은 경우 좋아하는 곡을 선택하라고 함\n"
   ]
  },
  {
   "cell_type": "markdown",
   "metadata": {},
   "source": [
    "작업 T를 누가 하는가? \n",
    "- 내가 하던지 누군가의 도움을 받아야 한다.\n",
    "\n",
    "수치화할 수 있는 것이 아니라면 (측정 가능하도록) **기준** 을 만들어야 한다"
   ]
  },
  {
   "cell_type": "markdown",
   "metadata": {},
   "source": [
    "## 학습"
   ]
  },
  {
   "cell_type": "markdown",
   "metadata": {},
   "source": [
    "- 지도 학습(Supervised Learning)\n",
    "    - 훈련 데이터에 레이블(label)이라는 답을 포함하고 있으면 '지도' 학습\n",
    "    - 대표적인 적용\n",
    "        - 회귀(Regression) : 예측 변수(predictor variable)라 부르는 특성(feature)를 사용해서 목표(target)을 예측하는 것\n",
    "        - 분류(Classification) : 전형적인 지도 학습, 스팸 필터가 가장 좋은 예 중 하나\n",
    "    - 대표적인 알고리즘\n",
    "        - 선형 회귀\n",
    "        - 서포트 벡터 머신\n",
    "        - 결정트리와 랜덤포레스트\n",
    "        - 신경망"
   ]
  },
  {
   "cell_type": "markdown",
   "metadata": {},
   "source": [
    "- 비지도 학습\n",
    "    - 훈련 데이터에 레이블(label)이라는 답은 포함하지 않으면 '비지도' 학습\n",
    "    - 중요한 비지도 학습\n",
    "        - 군집(clustering)\n",
    "            - K-means\n",
    "            - DBSCAN\n",
    "        - 시각화(Visualization)와 차원 축소(Dimensionality Reduction)\n",
    "            - 주성분 분석(Principal Component Analysis, PCA)\n",
    "        - 연관 규칙\n",
    "    - 추천 시스템 등에 사용된다. 아이유 좋아하면 민초 좋아할 것이다.. 이런 식으로."
   ]
  },
  {
   "cell_type": "markdown",
   "metadata": {},
   "source": [
    "### 모델"
   ]
  },
  {
   "cell_type": "markdown",
   "metadata": {},
   "source": [
    "- 모델은 '머신러닝의 수학적 표현' - 수학적인 이유 : 수치(P)\n",
    "- 모델은 '훈련 데이터로 학습된 머신러닝 알고리즘'을 지칭\n",
    "- 머신러닝 알고리즘에 사용되는 '값 또는 수치'를 모델 파라미터(Model Parameter)라고 한다"
   ]
  },
  {
   "cell_type": "markdown",
   "metadata": {},
   "source": [
    "모델 기반(Model-Based)\n",
    "- 샘플로부터 일반화시키는 다른 방법은 이 샘플들의 모델을 만들어 예측(Prediction)에 사용하는 것을 모델 기반 학습이라 함\n",
    "- 모델이 최상의 성능을 내도록 하기 위해서 모델이 얼마나 좋은지 측정하는 효용 함수(utility)를 정의하거나 얼마나 나쁜지 측정하는 비용함수(cost)를 정의할 수 있음\n",
    "- 알고리즘에 훈련 데이터를 공급하면 데이터에 가장 잘 맞는 모델을 찾는 과정을 훈련(training)이라 한다.\n",
    "- 모델 기반의 작업은\n",
    "    1. 데이터 분석\n",
    "    2. 모델 선택\n",
    "    3. 훈련 데이터로 모델을 훈련\n",
    "    4. 마지막으로 새로운 데이터에 모델을 적용해 예측"
   ]
  },
  {
   "cell_type": "markdown",
   "metadata": {},
   "source": [
    "# 선형 회귀\n",
    "- 회귀란 수치를 예측하는 것."
   ]
  },
  {
   "cell_type": "markdown",
   "metadata": {},
   "source": [
    "- 선형 회귀는 아주 간단한 1차 함수로 표현 가능하다.( y = ax + b )\n",
    "    - y : 값, a : 기울기, x : 미지수, b : 절편\n",
    "    - 지도 학습은 문제 : x, 답 : y 을 준다\n",
    "    - 기울기와 절편이 중요! \n",
    "        - 규칙은 a, b가 결정한다\n",
    "- 선형 회귀는 기본적으로 기울기와 절편을 찾아내는 것\n",
    "    - 선형 회귀는 **기울기**와 **절편**을 찾는 알고리즘"
   ]
  },
  {
   "cell_type": "markdown",
   "metadata": {},
   "source": [
    "학습 데이터 {3, 25}, {4, 32} ... 를 이용해서\n",
    "{6, 46}을 예측하는 것\n",
    "- 점이 엄청 많다면 ?"
   ]
  }
 ],
 "metadata": {
  "kernelspec": {
   "display_name": "Python 3",
   "language": "python",
   "name": "python3"
  },
  "language_info": {
   "codemirror_mode": {
    "name": "ipython",
    "version": 3
   },
   "file_extension": ".py",
   "mimetype": "text/x-python",
   "name": "python",
   "nbconvert_exporter": "python",
   "pygments_lexer": "ipython3",
   "version": "3.8.3"
  }
 },
 "nbformat": 4,
 "nbformat_minor": 4
}
