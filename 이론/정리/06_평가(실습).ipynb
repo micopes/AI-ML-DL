{
  "nbformat": 4,
  "nbformat_minor": 0,
  "metadata": {
    "colab": {
      "name": "평가(실습).ipynb",
      "provenance": [],
      "collapsed_sections": []
    },
    "kernelspec": {
      "name": "python3",
      "display_name": "Python 3"
    }
  },
  "cells": [
    {
      "cell_type": "markdown",
      "metadata": {
        "id": "X9c3v6Y1X0Y-"
      },
      "source": [
        "# 평가"
      ]
    },
    {
      "cell_type": "code",
      "metadata": {
        "id": "v7J-TaDmX2eE"
      },
      "source": [
        "import numpy as np"
      ],
      "execution_count": 1,
      "outputs": []
    },
    {
      "cell_type": "code",
      "metadata": {
        "id": "x8aO0lQkX3vu"
      },
      "source": [
        "from sklearn.datasets import load_boston, load_breast_cancer\r\n",
        "from sklearn.model_selection import train_test_split\r\n",
        "from sklearn.svm import SVC, SVR"
      ],
      "execution_count": 2,
      "outputs": []
    },
    {
      "cell_type": "markdown",
      "metadata": {
        "id": "jCrDzmVOYBJI"
      },
      "source": [
        "## 회귀"
      ]
    },
    {
      "cell_type": "code",
      "metadata": {
        "id": "WSJgJbQSYFey"
      },
      "source": [
        "X, y = load_boston(return_X_y = True)\r\n",
        "X_train, X_test, y_train, y_test = train_test_split(X, y)"
      ],
      "execution_count": 3,
      "outputs": []
    },
    {
      "cell_type": "code",
      "metadata": {
        "colab": {
          "base_uri": "https://localhost:8080/"
        },
        "id": "TN24rSihYPi_",
        "outputId": "744790a7-eca1-4285-8892-b07fe50f979d"
      },
      "source": [
        "model = SVR(kernel = 'linear')\r\n",
        "model.fit(X_train, y_train)"
      ],
      "execution_count": 4,
      "outputs": [
        {
          "output_type": "execute_result",
          "data": {
            "text/plain": [
              "SVR(C=1.0, cache_size=200, coef0=0.0, degree=3, epsilon=0.1, gamma='scale',\n",
              "    kernel='linear', max_iter=-1, shrinking=True, tol=0.001, verbose=False)"
            ]
          },
          "metadata": {
            "tags": []
          },
          "execution_count": 4
        }
      ]
    },
    {
      "cell_type": "code",
      "metadata": {
        "colab": {
          "base_uri": "https://localhost:8080/"
        },
        "id": "l96zwuaoYdCX",
        "outputId": "6437ff85-eac4-486b-cb71-cab52f90d247"
      },
      "source": [
        "print(f\"학습 : {model.score(X_train, y_train)}\")\r\n",
        "print(f\"예측 : {model.score(X_test, y_test)}\")"
      ],
      "execution_count": 7,
      "outputs": [
        {
          "output_type": "stream",
          "text": [
            "학습 : 0.7162061015218615\n",
            "예측 : 0.6408565912132995\n"
          ],
          "name": "stdout"
        }
      ]
    },
    {
      "cell_type": "code",
      "metadata": {
        "id": "9e95TWUGYTfv"
      },
      "source": [
        "# 예측\r\n",
        "predict = model.predict(X_test)\r\n"
      ],
      "execution_count": 8,
      "outputs": []
    },
    {
      "cell_type": "code",
      "metadata": {
        "colab": {
          "base_uri": "https://localhost:8080/"
        },
        "id": "I98R6assYqLy",
        "outputId": "8b09376f-f1af-496a-d28b-aa09b2937875"
      },
      "source": [
        "from sklearn.metrics import mean_absolute_error, mean_squared_error\r\n",
        "\r\n",
        "print(f\"mean_absolute_error : {mean_absolute_error(y_test, predict)}\")\r\n",
        "print(f\"mean_squared_error : {mean_squared_error(y_test, predict)}\")\r\n",
        "# RMSE\r\n",
        "print(f\"root_mean_squared_error : {np.sqrt(mean_squared_error(y_test, predict))}\")"
      ],
      "execution_count": 13,
      "outputs": [
        {
          "output_type": "stream",
          "text": [
            "mean_absolute_error : 3.3876246727855586\n",
            "mean_squared_error : 26.148008470971853\n",
            "root_mean_squared_error : 5.1135123419203605\n"
          ],
          "name": "stdout"
        }
      ]
    },
    {
      "cell_type": "markdown",
      "metadata": {
        "id": "COBvFYpUYBN5"
      },
      "source": [
        "## 회귀"
      ]
    },
    {
      "cell_type": "code",
      "metadata": {
        "id": "oCuuLCGQYEp3"
      },
      "source": [
        "X, y = load_breast_cancer(return_X_y = True)\r\n",
        "X_train, X_test, y_train, y_test = train_test_split(X, y)\r\n",
        "\r\n",
        "model = SVC(kernel = 'linear')\r\n",
        "model.fit(X_train, y_train)\r\n",
        "\r\n",
        "# 예측\r\n",
        "predict = model.predict(X_test)"
      ],
      "execution_count": 15,
      "outputs": []
    },
    {
      "cell_type": "code",
      "metadata": {
        "colab": {
          "base_uri": "https://localhost:8080/"
        },
        "id": "btRDNAjxZgJ1",
        "outputId": "a35c23c2-40f3-4743-87d7-cb1ee85a2913"
      },
      "source": [
        "from sklearn.metrics import accuracy_score, confusion_matrix\r\n",
        "from sklearn.metrics import precision_score, recall_score, f1_score\r\n",
        "from sklearn.metrics import roc_curve, roc_auc_score\r\n",
        "\r\n",
        "# 1. 정확도\r\n",
        "print(f\"accuracy_score : {accuracy_score(y_test, predict)}\")\r\n",
        "\r\n",
        "# 2. 오차 행렬 (사용 주의!)\r\n",
        "conf_matrix = confusion_matrix(y_true = y_test, y_pred = predict)\r\n",
        "print(conf_matrix)\r\n",
        "\r\n",
        "# 3. 정밀도와 재현율\r\n",
        "print(f\"precision_score : {precision_score(y_test, predict)}\")\r\n",
        "print(f\"recall_score : {recall_score(y_test, predict)}\")\r\n",
        "\r\n",
        "# 4. F1-score\r\n",
        "print(f\"f1_score : {f1_score(y_test, predict)}\")\r\n",
        "\r\n",
        "# 5. ROC/AUC\r\n",
        "print(f\"roc_auc_score : {roc_auc_score(y_test, predict)}\")"
      ],
      "execution_count": 17,
      "outputs": [
        {
          "output_type": "stream",
          "text": [
            "accuracy_score : 0.9230769230769231\n",
            "[[53  8]\n",
            " [ 3 79]]\n",
            "precision_score : 0.9080459770114943\n",
            "recall_score : 0.9634146341463414\n",
            "f1_score : 0.9349112426035503\n",
            "roc_auc_score : 0.9161335465813674\n"
          ],
          "name": "stdout"
        }
      ]
    },
    {
      "cell_type": "code",
      "metadata": {
        "id": "CkMtcy5daaBt"
      },
      "source": [
        ""
      ],
      "execution_count": null,
      "outputs": []
    }
  ]
}