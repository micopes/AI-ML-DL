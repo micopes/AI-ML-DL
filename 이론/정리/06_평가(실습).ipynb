{
  "nbformat": 4,
  "nbformat_minor": 0,
  "metadata": {
    "colab": {
      "name": "평가(실습).ipynb",
      "provenance": [],
      "collapsed_sections": []
    },
    "kernelspec": {
      "name": "python3",
      "display_name": "Python 3"
    }
  },
  "cells": [
    {
      "cell_type": "markdown",
      "metadata": {
        "id": "X9c3v6Y1X0Y-"
      },
      "source": [
        "# 평가"
      ]
    },
    {
      "cell_type": "code",
      "metadata": {
        "id": "v7J-TaDmX2eE"
      },
      "source": [
        "import numpy as np"
      ],
      "execution_count": 2,
      "outputs": []
    },
    {
      "cell_type": "code",
      "metadata": {
        "id": "x8aO0lQkX3vu"
      },
      "source": [
        "from sklearn.datasets import load_boston, load_breast_cancer\r\n",
        "from sklearn.model_selection import train_test_split\r\n",
        "from sklearn.svm import SVC, SVR"
      ],
      "execution_count": 3,
      "outputs": []
    },
    {
      "cell_type": "markdown",
      "metadata": {
        "id": "jCrDzmVOYBJI"
      },
      "source": [
        "## 회귀"
      ]
    },
    {
      "cell_type": "code",
      "metadata": {
        "id": "WSJgJbQSYFey"
      },
      "source": [
        "X, y = load_boston(return_X_y = True)\r\n",
        "X_train, X_test, y_train, y_test = train_test_split(X, y)"
      ],
      "execution_count": 4,
      "outputs": []
    },
    {
      "cell_type": "code",
      "metadata": {
        "colab": {
          "base_uri": "https://localhost:8080/"
        },
        "id": "TN24rSihYPi_",
        "outputId": "d673185e-43b4-4cb1-f79d-b3dbfb1b3461"
      },
      "source": [
        "model = SVR(kernel = 'linear')\r\n",
        "model.fit(X_train, y_train)"
      ],
      "execution_count": 5,
      "outputs": [
        {
          "output_type": "execute_result",
          "data": {
            "text/plain": [
              "SVR(C=1.0, cache_size=200, coef0=0.0, degree=3, epsilon=0.1, gamma='scale',\n",
              "    kernel='linear', max_iter=-1, shrinking=True, tol=0.001, verbose=False)"
            ]
          },
          "metadata": {
            "tags": []
          },
          "execution_count": 5
        }
      ]
    },
    {
      "cell_type": "code",
      "metadata": {
        "colab": {
          "base_uri": "https://localhost:8080/"
        },
        "id": "l96zwuaoYdCX",
        "outputId": "3873fb5a-48a2-4d4e-8bad-2ce663b35fdf"
      },
      "source": [
        "print(f\"학습 : {model.score(X_train, y_train)}\")\r\n",
        "print(f\"예측 : {model.score(X_test, y_test)}\")"
      ],
      "execution_count": 6,
      "outputs": [
        {
          "output_type": "stream",
          "text": [
            "학습 : 0.7175245699007546\n",
            "예측 : 0.6676893373552526\n"
          ],
          "name": "stdout"
        }
      ]
    },
    {
      "cell_type": "code",
      "metadata": {
        "id": "9e95TWUGYTfv"
      },
      "source": [
        "# 예측\r\n",
        "predict = model.predict(X_test)\r\n"
      ],
      "execution_count": 7,
      "outputs": []
    },
    {
      "cell_type": "code",
      "metadata": {
        "colab": {
          "base_uri": "https://localhost:8080/"
        },
        "id": "I98R6assYqLy",
        "outputId": "2cd65fcb-cd95-48cb-c189-2e945535d0ce"
      },
      "source": [
        "from sklearn.metrics import mean_absolute_error, mean_squared_error\r\n",
        "\r\n",
        "print(f\"mean_absolute_error : {mean_absolute_error(y_test, predict)}\")\r\n",
        "print(f\"mean_squared_error : {mean_squared_error(y_test, predict)}\")\r\n",
        "# RMSE\r\n",
        "print(f\"root_mean_squared_error : {np.sqrt(mean_squared_error(y_test, predict))}\")"
      ],
      "execution_count": 8,
      "outputs": [
        {
          "output_type": "stream",
          "text": [
            "mean_absolute_error : 3.688600589899893\n",
            "mean_squared_error : 33.5897759383444\n",
            "root_mean_squared_error : 5.795668722273937\n"
          ],
          "name": "stdout"
        }
      ]
    },
    {
      "cell_type": "markdown",
      "metadata": {
        "id": "COBvFYpUYBN5"
      },
      "source": [
        "## 회귀"
      ]
    },
    {
      "cell_type": "code",
      "metadata": {
        "id": "oCuuLCGQYEp3"
      },
      "source": [
        "X, y = load_breast_cancer(return_X_y = True)\r\n",
        "X_train, X_test, y_train, y_test = train_test_split(X, y)\r\n",
        "\r\n",
        "model = SVC(kernel = 'linear', probability = True)\r\n",
        "model.fit(X_train, y_train)\r\n",
        "\r\n",
        "# 예측\r\n",
        "predict = model.predict(X_test)"
      ],
      "execution_count": 14,
      "outputs": []
    },
    {
      "cell_type": "code",
      "metadata": {
        "colab": {
          "base_uri": "https://localhost:8080/",
          "height": 424
        },
        "id": "btRDNAjxZgJ1",
        "outputId": "57dd8ea0-d3a5-44f4-952a-f3643fe7f842"
      },
      "source": [
        "from sklearn.metrics import accuracy_score, confusion_matrix\r\n",
        "from sklearn.metrics import precision_score, recall_score, f1_score\r\n",
        "from sklearn.metrics import roc_curve, roc_auc_score\r\n",
        "\r\n",
        "# 1. 정확도\r\n",
        "print(f\"accuracy_score : {accuracy_score(y_test, predict)}\")\r\n",
        "\r\n",
        "# 2. 오차 행렬 (사용 주의!)\r\n",
        "conf_matrix = confusion_matrix(y_true = y_test, y_pred = predict)\r\n",
        "print(conf_matrix)\r\n",
        "\r\n",
        "# 3. 정밀도와 재현율\r\n",
        "print(f\"precision_score : {precision_score(y_test, predict)}\")\r\n",
        "print(f\"recall_score : {recall_score(y_test, predict)}\")\r\n",
        "\r\n",
        "# 4. F1-score\r\n",
        "print(f\"f1_score : {f1_score(y_test, predict)}\")\r\n",
        "\r\n",
        "# 5. ROC/AUC\r\n",
        "print(f\"roc_auc_score : {roc_auc_score(y_test, predict)}\")\r\n",
        "\r\n",
        "import matplotlib.pyplot as plt\r\n",
        "\r\n",
        "# 분류가 1인 것들 모음\r\n",
        "pred_proba_class1 = model.predict_proba(X_test)[:, 1]\r\n",
        "fprs, tprs, thresholds = roc_curve(y_test, pred_proba_class1)\r\n",
        "\r\n",
        "# 시각화\r\n",
        "plt.plot(fprs, tprs, label = 'ROC')\r\n",
        "plt.plot([0, 1], [0, 1], label = 'random')\r\n",
        "plt.xlim(0, 1)\r\n",
        "plt.ylim(0, 1)\r\n",
        "plt.xlabel('FPR')\r\n",
        "plt.ylabel('TPR')\r\n",
        "plt.legend()"
      ],
      "execution_count": 16,
      "outputs": [
        {
          "output_type": "stream",
          "text": [
            "accuracy_score : 0.951048951048951\n",
            "[[47  6]\n",
            " [ 1 89]]\n",
            "precision_score : 0.9368421052631579\n",
            "recall_score : 0.9888888888888889\n",
            "f1_score : 0.9621621621621621\n",
            "roc_auc_score : 0.9378406708595388\n"
          ],
          "name": "stdout"
        },
        {
          "output_type": "execute_result",
          "data": {
            "text/plain": [
              "<matplotlib.legend.Legend at 0x7f2d75a2cf60>"
            ]
          },
          "metadata": {
            "tags": []
          },
          "execution_count": 16
        },
        {
          "output_type": "display_data",
          "data": {
            "image/png": "[encoded data removed]",
            "text/plain": [
              "<Figure size 432x288 with 1 Axes>"
            ]
          },
          "metadata": {
            "tags": [],
            "needs_background": "light"
          }
        }
      ]
    },
    {
      "cell_type": "code",
      "metadata": {
        "id": "CkMtcy5daaBt"
      },
      "source": [
        ""
      ],
      "execution_count": null,
      "outputs": []
    }
  ]
}