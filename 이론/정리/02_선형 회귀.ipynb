{
  "nbformat": 4,
  "nbformat_minor": 0,
  "metadata": {
    "colab": {
      "name": "선형 회귀",
      "provenance": [],
      "collapsed_sections": []
    },
    "kernelspec": {
      "name": "python3",
      "display_name": "Python 3"
    }
  },
  "cells": [
    {
      "cell_type": "markdown",
      "metadata": {
        "id": "RgT5JuPVT51N"
      },
      "source": [
        "# 선형 회귀"
      ]
    },
    {
      "cell_type": "markdown",
      "metadata": {
        "id": "jMTCwLAEIOuA"
      },
      "source": [
        "## 데이터 준비\r\n"
      ]
    },
    {
      "cell_type": "code",
      "metadata": {
        "id": "tVDwawDTIQa-"
      },
      "source": [
        "from sklearn.datasets import load_diabetes # C"
      ],
      "execution_count": 1,
      "outputs": []
    },
    {
      "cell_type": "code",
      "metadata": {
        "id": "PUg3Nax7KDpK"
      },
      "source": [
        "diabetes = load_diabetes() # {data : target}의 형태로 된 딕셔너리"
      ],
      "execution_count": 2,
      "outputs": []
    },
    {
      "cell_type": "code",
      "metadata": {
        "colab": {
          "base_uri": "https://localhost:8080/"
        },
        "id": "HDVymtqgKZD5",
        "outputId": "e8c41ec3-9950-46a1-ac4d-beda448b4cbe"
      },
      "source": [
        "print(diabetes.data.shape, diabetes.target.shape) # (442, 10) : 442개의 sample이 10개의 속성을 지님"
      ],
      "execution_count": 3,
      "outputs": [
        {
          "output_type": "stream",
          "text": [
            "(442, 10) (442,)\n"
          ],
          "name": "stdout"
        }
      ]
    },
    {
      "cell_type": "code",
      "metadata": {
        "id": "OscQGrSuKff3"
      },
      "source": [
        "import matplotlib.pyplot as plt"
      ],
      "execution_count": 4,
      "outputs": []
    },
    {
      "cell_type": "code",
      "metadata": {
        "colab": {
          "base_uri": "https://localhost:8080/",
          "height": 282
        },
        "id": "xTuXo3SzK8Gq",
        "outputId": "00878db7-83f7-45f2-bbd8-fa8d6dedf80f"
      },
      "source": [
        "plt.scatter(diabetes.data[:, 2], diabetes.target) # row, column"
      ],
      "execution_count": 5,
      "outputs": [
        {
          "output_type": "execute_result",
          "data": {
            "text/plain": [
              "<matplotlib.collections.PathCollection at 0x7fcdccab1588>"
            ]
          },
          "metadata": {
            "tags": []
          },
          "execution_count": 5
        },
        {
          "output_type": "display_data",
          "data": {
            "image/png": "[encoded data removed]",
            "text/plain": [
              "<Figure size 432x288 with 1 Axes>"
            ]
          },
          "metadata": {
            "tags": [],
            "needs_background": "light"
          }
        }
      ]
    },
    {
      "cell_type": "code",
      "metadata": {
        "colab": {
          "base_uri": "https://localhost:8080/"
        },
        "id": "GqHZuPY6LS26",
        "outputId": "66b220be-15ea-4f3f-9cd2-9a6888f61110"
      },
      "source": [
        "l1 = ['gd', 'iu', '나얼']\r\n",
        "print(l1)"
      ],
      "execution_count": 6,
      "outputs": [
        {
          "output_type": "stream",
          "text": [
            "['gd', 'iu', '나얼']\n"
          ],
          "name": "stdout"
        }
      ]
    },
    {
      "cell_type": "code",
      "metadata": {
        "colab": {
          "base_uri": "https://localhost:8080/"
        },
        "id": "p3FOpgmoP8zF",
        "outputId": "0a770645-e41c-475e-cfe5-216ec01ed3c9"
      },
      "source": [
        "l1[:]"
      ],
      "execution_count": 7,
      "outputs": [
        {
          "output_type": "execute_result",
          "data": {
            "text/plain": [
              "['gd', 'iu', '나얼']"
            ]
          },
          "metadata": {
            "tags": []
          },
          "execution_count": 7
        }
      ]
    },
    {
      "cell_type": "code",
      "metadata": {
        "colab": {
          "base_uri": "https://localhost:8080/"
        },
        "id": "8FNwIN1KP_B3",
        "outputId": "ab7813c9-62bd-4f56-e213-fa98a28f3c26"
      },
      "source": [
        "l1[0:2]\r\n"
      ],
      "execution_count": 8,
      "outputs": [
        {
          "output_type": "execute_result",
          "data": {
            "text/plain": [
              "['gd', 'iu']"
            ]
          },
          "metadata": {
            "tags": []
          },
          "execution_count": 8
        }
      ]
    },
    {
      "cell_type": "code",
      "metadata": {
        "colab": {
          "base_uri": "https://localhost:8080/"
        },
        "id": "iKcgW05KQZWd",
        "outputId": "a7a30260-4d55-44db-f3a9-a7bb57bfc5a8"
      },
      "source": [
        "l1[1:]"
      ],
      "execution_count": 9,
      "outputs": [
        {
          "output_type": "execute_result",
          "data": {
            "text/plain": [
              "['iu', '나얼']"
            ]
          },
          "metadata": {
            "tags": []
          },
          "execution_count": 9
        }
      ]
    },
    {
      "cell_type": "code",
      "metadata": {
        "id": "a4RP3Z3iQhi3"
      },
      "source": [
        "X = diabetes.data[:, 2]\r\n",
        "y = diabetes.target"
      ],
      "execution_count": 10,
      "outputs": []
    },
    {
      "cell_type": "code",
      "metadata": {
        "colab": {
          "base_uri": "https://localhost:8080/"
        },
        "id": "EiwmPA7SRvXx",
        "outputId": "73a174ba-492a-4edd-8770-fbed01560782"
      },
      "source": [
        "print(X)"
      ],
      "execution_count": 11,
      "outputs": [
        {
          "output_type": "stream",
          "text": [
            "[ 0.06169621 -0.05147406  0.04445121 -0.01159501 -0.03638469 -0.04069594\n",
            " -0.04716281 -0.00189471  0.06169621  0.03906215 -0.08380842  0.01750591\n",
            " -0.02884001 -0.00189471 -0.02560657 -0.01806189  0.04229559  0.01211685\n",
            " -0.0105172  -0.01806189 -0.05686312 -0.02237314 -0.00405033  0.06061839\n",
            "  0.03582872 -0.01267283 -0.07734155  0.05954058 -0.02129532 -0.00620595\n",
            "  0.04445121 -0.06548562  0.12528712 -0.05039625 -0.06332999 -0.03099563\n",
            "  0.02289497  0.01103904  0.07139652  0.01427248 -0.00836158 -0.06764124\n",
            " -0.0105172  -0.02345095  0.06816308 -0.03530688 -0.01159501 -0.0730303\n",
            " -0.04177375  0.01427248 -0.00728377  0.0164281  -0.00943939 -0.01590626\n",
            "  0.0250506  -0.04931844  0.04121778 -0.06332999 -0.06440781 -0.02560657\n",
            " -0.00405033  0.00457217 -0.00728377 -0.0374625  -0.02560657 -0.02452876\n",
            " -0.01806189 -0.01482845 -0.02991782 -0.046085   -0.06979687  0.03367309\n",
            " -0.00405033 -0.02021751  0.00241654 -0.03099563  0.02828403 -0.03638469\n",
            " -0.05794093 -0.0374625   0.01211685 -0.02237314 -0.03530688  0.00996123\n",
            " -0.03961813  0.07139652 -0.07518593 -0.00620595 -0.04069594 -0.04824063\n",
            " -0.02560657  0.0519959   0.00457217 -0.06440781 -0.01698407 -0.05794093\n",
            "  0.00996123  0.08864151 -0.00512814 -0.06440781  0.01750591 -0.04500719\n",
            "  0.02828403  0.04121778  0.06492964 -0.03207344 -0.07626374  0.04984027\n",
            "  0.04552903 -0.00943939 -0.03207344  0.00457217  0.02073935  0.01427248\n",
            "  0.11019775  0.00133873  0.05846277 -0.02129532 -0.0105172  -0.04716281\n",
            "  0.00457217  0.01750591  0.08109682  0.0347509   0.02397278 -0.00836158\n",
            " -0.06117437 -0.00189471 -0.06225218  0.0164281   0.09618619 -0.06979687\n",
            " -0.02129532 -0.05362969  0.0433734   0.05630715 -0.0816528   0.04984027\n",
            "  0.11127556  0.06169621  0.01427248  0.04768465  0.01211685  0.00564998\n",
            "  0.04660684  0.12852056  0.05954058  0.09295276  0.01535029 -0.00512814\n",
            "  0.0703187  -0.00405033 -0.00081689 -0.04392938  0.02073935  0.06061839\n",
            " -0.0105172  -0.03315126 -0.06548562  0.0433734  -0.06225218  0.06385183\n",
            "  0.03043966  0.07247433 -0.0191397  -0.06656343 -0.06009656  0.06924089\n",
            "  0.05954058 -0.02668438 -0.02021751 -0.046085    0.07139652 -0.07949718\n",
            "  0.00996123 -0.03854032  0.01966154  0.02720622 -0.00836158 -0.01590626\n",
            "  0.00457217 -0.04285156  0.00564998 -0.03530688  0.02397278 -0.01806189\n",
            "  0.04229559 -0.0547075  -0.00297252 -0.06656343 -0.01267283 -0.04177375\n",
            " -0.03099563 -0.00512814 -0.05901875  0.0250506  -0.046085    0.00349435\n",
            "  0.05415152 -0.04500719 -0.05794093 -0.05578531  0.00133873  0.03043966\n",
            "  0.00672779  0.04660684  0.02612841  0.04552903  0.04013997 -0.01806189\n",
            "  0.01427248  0.03690653  0.00349435 -0.07087468 -0.03315126  0.09403057\n",
            "  0.03582872  0.03151747 -0.06548562 -0.04177375 -0.03961813 -0.03854032\n",
            " -0.02560657 -0.02345095 -0.06656343  0.03259528 -0.046085   -0.02991782\n",
            " -0.01267283 -0.01590626  0.07139652 -0.03099563  0.00026092  0.03690653\n",
            "  0.03906215 -0.01482845  0.00672779 -0.06871905 -0.00943939  0.01966154\n",
            "  0.07462995 -0.00836158 -0.02345095 -0.046085    0.05415152 -0.03530688\n",
            " -0.03207344 -0.0816528   0.04768465  0.06061839  0.05630715  0.09834182\n",
            "  0.05954058  0.03367309  0.05630715 -0.06548562  0.16085492 -0.05578531\n",
            " -0.02452876 -0.03638469 -0.00836158 -0.04177375  0.12744274 -0.07734155\n",
            "  0.02828403 -0.02560657 -0.06225218 -0.00081689  0.08864151 -0.03207344\n",
            "  0.03043966  0.00888341  0.00672779 -0.02021751 -0.02452876 -0.01159501\n",
            "  0.02612841 -0.05901875 -0.03638469 -0.02452876  0.01858372 -0.0902753\n",
            " -0.00512814 -0.05255187 -0.02237314 -0.02021751 -0.0547075  -0.00620595\n",
            " -0.01698407  0.05522933  0.07678558  0.01858372 -0.02237314  0.09295276\n",
            " -0.03099563  0.03906215 -0.06117437 -0.00836158 -0.0374625  -0.01375064\n",
            "  0.07355214 -0.02452876  0.03367309  0.0347509  -0.03854032 -0.03961813\n",
            " -0.00189471 -0.03099563 -0.046085    0.00133873  0.06492964  0.04013997\n",
            " -0.02345095  0.05307371  0.04013997 -0.02021751  0.01427248 -0.03422907\n",
            "  0.00672779  0.00457217  0.03043966  0.0519959   0.06169621 -0.00728377\n",
            "  0.00564998  0.05415152 -0.00836158  0.114509    0.06708527 -0.05578531\n",
            "  0.03043966 -0.02560657  0.10480869 -0.00620595 -0.04716281 -0.04824063\n",
            "  0.08540807 -0.01267283 -0.03315126 -0.00728377 -0.01375064  0.05954058\n",
            "  0.02181716  0.01858372 -0.01159501 -0.00297252  0.01750591 -0.02991782\n",
            " -0.02021751 -0.05794093  0.06061839 -0.04069594 -0.07195249 -0.05578531\n",
            "  0.04552903 -0.00943939 -0.03315126  0.04984027 -0.08488624  0.00564998\n",
            "  0.02073935 -0.00728377  0.10480869 -0.02452876 -0.00620595 -0.03854032\n",
            "  0.13714305  0.17055523  0.00241654  0.03798434 -0.05794093 -0.00943939\n",
            " -0.02345095 -0.0105172  -0.03422907 -0.00297252  0.06816308  0.00996123\n",
            "  0.00241654 -0.03854032  0.02612841 -0.08919748  0.06061839 -0.02884001\n",
            " -0.02991782 -0.0191397  -0.04069594  0.01535029 -0.02452876  0.00133873\n",
            "  0.06924089 -0.06979687 -0.02991782 -0.046085    0.01858372  0.00133873\n",
            " -0.03099563 -0.00405033  0.01535029  0.02289497  0.04552903 -0.04500719\n",
            " -0.03315126  0.097264    0.05415152  0.12313149 -0.08057499  0.09295276\n",
            " -0.05039625 -0.01159501 -0.0277622   0.05846277  0.08540807 -0.00081689\n",
            "  0.00672779  0.00888341  0.08001901  0.07139652 -0.02452876 -0.0547075\n",
            " -0.03638469  0.0164281   0.07786339 -0.03961813  0.01103904 -0.04069594\n",
            " -0.03422907  0.00564998  0.08864151 -0.03315126 -0.05686312 -0.03099563\n",
            "  0.05522933 -0.06009656  0.00133873 -0.02345095 -0.07410811  0.01966154\n",
            " -0.01590626 -0.01590626  0.03906215 -0.0730303 ]\n"
          ],
          "name": "stdout"
        }
      ]
    },
    {
      "cell_type": "markdown",
      "metadata": {
        "id": "CePW7883TzjI"
      },
      "source": [
        "# 경사하강법"
      ]
    },
    {
      "cell_type": "markdown",
      "metadata": {
        "id": "4Yd-wdVYSkbN"
      },
      "source": [
        "- 적합한 기울기 및 절편을 찾는 것이 회귀 알고리즘의 목표\r\n",
        "- 경사하강법\r\n",
        "  - 기울기(변화율)을 사용해서 모델(수식)을 조금씩 조정하는 최적화 알고리즘"
      ]
    },
    {
      "cell_type": "markdown",
      "metadata": {
        "id": "8o4hv1TQTCNQ"
      },
      "source": [
        "- y = ax + b : 결과 값\r\n",
        "- y_hat = wx + b : 예측 값\r\n",
        "\r\n",
        "target 데이터를 뜻하는 y와 구별하기 위해서 y_hat 사용\r\n",
        "\r\n",
        "1. 무작위로 {w, b}를 선택\r\n",
        "2. x에서 샘플 하나를 선택해서 y_hat을 계산\r\n",
        "3. y_hat과 샘플의 y를 비교\r\n",
        "4. y_hat과 y가 더 가까워지도록 w, b를 조절\r\n",
        "5. 모든 샘플에 적용"
      ]
    },
    {
      "cell_type": "code",
      "metadata": {
        "id": "Gqa1cHaKTRz2"
      },
      "source": [
        "# 1. 무작위로 {w, b}\r\n",
        "w = 1.0\r\n",
        "b = 1.0"
      ],
      "execution_count": 12,
      "outputs": []
    },
    {
      "cell_type": "code",
      "metadata": {
        "colab": {
          "base_uri": "https://localhost:8080/"
        },
        "id": "0xIxx6HpUiTt",
        "outputId": "ae9dae49-3996-415b-d3cf-27d6e832eacc"
      },
      "source": [
        "# 2. X에서 샘플 가지고와서 y_hat을 계산\r\n",
        "y_hat = X[0] * w + b\r\n",
        "print(y_hat)"
      ],
      "execution_count": 13,
      "outputs": [
        {
          "output_type": "stream",
          "text": [
            "1.0616962065186886\n"
          ],
          "name": "stdout"
        }
      ]
    },
    {
      "cell_type": "code",
      "metadata": {
        "colab": {
          "base_uri": "https://localhost:8080/"
        },
        "id": "hH8fX0wcUnmR",
        "outputId": "614b2527-a630-497b-8827-1584f5a4fd35"
      },
      "source": [
        "# 3. y와 y_hat을 비교\r\n",
        "print(y[0] - y_hat)"
      ],
      "execution_count": 14,
      "outputs": [
        {
          "output_type": "stream",
          "text": [
            "149.9383037934813\n"
          ],
          "name": "stdout"
        }
      ]
    },
    {
      "cell_type": "code",
      "metadata": {
        "colab": {
          "base_uri": "https://localhost:8080/"
        },
        "id": "YksOI7JWUrFR",
        "outputId": "7dc343c5-7b72-46eb-f464-d80eee8aef28"
      },
      "source": [
        "# 4. y_hat과 y가 더 가까워지도록 w, b를 조절\r\n",
        "w_inc = w + 0.1\r\n",
        "y_hat_inc = X[0] * w_inc + b\r\n",
        "print(y_hat_inc)"
      ],
      "execution_count": 15,
      "outputs": [
        {
          "output_type": "stream",
          "text": [
            "1.0678658271705574\n"
          ],
          "name": "stdout"
        }
      ]
    },
    {
      "cell_type": "code",
      "metadata": {
        "id": "dmD3V448U5tB"
      },
      "source": [
        "# 5. 모든 샘플에 적용\r\n",
        "w_rate = (y_hat_inc - y_hat) / (w_inc - w) # 기울기. \r\n",
        "w_new = w + w_rate"
      ],
      "execution_count": 16,
      "outputs": []
    },
    {
      "cell_type": "code",
      "metadata": {
        "colab": {
          "base_uri": "https://localhost:8080/"
        },
        "id": "eJ5ZonhCWIet",
        "outputId": "b5ba30bd-236a-4c1a-ac4f-a6bf15df1c0b"
      },
      "source": [
        "b_inc = b + 0.1\r\n",
        "y_hat_inc = X[0] * w + b_inc\r\n",
        "print(y_hat_inc)"
      ],
      "execution_count": 17,
      "outputs": [
        {
          "output_type": "stream",
          "text": [
            "1.1616962065186887\n"
          ],
          "name": "stdout"
        }
      ]
    },
    {
      "cell_type": "code",
      "metadata": {
        "id": "riFJGenBXd1u"
      },
      "source": [
        "# 5-2 b에도 마찬가지로 적용\r\n",
        "b_rate = (y_hat_inc - y_hat) - (b_inc - b)\r\n",
        "b_new = b + b_inc"
      ],
      "execution_count": 19,
      "outputs": []
    },
    {
      "cell_type": "markdown",
      "metadata": {
        "id": "O6Z3d2hrW7uo"
      },
      "source": [
        "- 문제점 : \r\n",
        "  - y_hat이 y에 한참 미치지 못하는 경우 0.1. 이런 식으로 더해주면 한참 걸림. w, b를 더 큰 폭으로 수정할 수 없음. -> local minima에 빠질 수 있다.\r\n",
        "  - y_hat이 y보다 커지면 y_hat을 감소시키지 못함. +0.1만 했기 때문에\r\n",
        "\r\n",
        "-> Backpropagation으로 이를 해결"
      ]
    },
    {
      "cell_type": "markdown",
      "metadata": {
        "id": "FXrKYxIs76VR"
      },
      "source": [
        "## 오차역전파(Backpropagation)"
      ]
    },
    {
      "cell_type": "markdown",
      "metadata": {
        "id": "UzHlUx_i8Cfh"
      },
      "source": [
        "- 컴퓨터로 미분 가능한가? 불연속한 값을 다루기 때문에 불가능하다고 볼 수 있다."
      ]
    },
    {
      "cell_type": "markdown",
      "metadata": {
        "id": "okAgqfZs9TxH"
      },
      "source": [
        "- y_hat과 y의 값 차이가 심할 경우 {w, b}를 결정하기 쉽지 않다.\r\n",
        "  - y_hat과 y를 이용해서 w, b를 업데이트하는 방법이 필요하는데. y_hat이 y의 오차를 전달하는 방법으로 이를 해결한다.\r\n",
        "\r\n",
        "err = y[0] - y_hat\r\n",
        "- **경사 하강법**만으로는 w, b를 조정하기 어려웠는데 **오차 역전파(오차)**를 이용해서 w, b를 빠르게 조정할 수 있다.\r\n",
        "\r\n",
        "w_new = w + w_rate * err\r\n",
        "\r\n",
        "b_new = b + 1 * err\r\n"
      ]
    },
    {
      "cell_type": "markdown",
      "metadata": {
        "id": "eMAmoujuB2dd"
      },
      "source": [
        "- 오차 역전파 사용"
      ]
    },
    {
      "cell_type": "code",
      "metadata": {
        "colab": {
          "base_uri": "https://localhost:8080/"
        },
        "id": "-BGkZsRT789f",
        "outputId": "52f30090-3b43-4f8d-93ff-a2861bda93f9"
      },
      "source": [
        "err = y[0] - y_hat\r\n",
        "w_new = w + w_rate\r\n",
        "b_new = b + 1  *err\r\n",
        "print(w_new, b_new)"
      ],
      "execution_count": 20,
      "outputs": [
        {
          "output_type": "stream",
          "text": [
            "1.0616962065186888 150.9383037934813\n"
          ],
          "name": "stdout"
        }
      ]
    },
    {
      "cell_type": "code",
      "metadata": {
        "colab": {
          "base_uri": "https://localhost:8080/"
        },
        "id": "Ygi4ObKwBuM9",
        "outputId": "0092b1c4-e014-4580-f02d-93edc8a49568"
      },
      "source": [
        "y_hat = X[1] * w_new + b_new\r\n",
        "err = y[1] - y_hat\r\n",
        "w_rate = X[1]\r\n",
        "w_new = w + w_rate * err\r\n",
        "b_new = b + 1 * err\r\n",
        "print(w_new, b_new)"
      ],
      "execution_count": 24,
      "outputs": [
        {
          "output_type": "stream",
          "text": [
            "-6.728119323624628 151.13618777370587\n"
          ],
          "name": "stdout"
        }
      ]
    },
    {
      "cell_type": "markdown",
      "metadata": {
        "id": "l7c8VcAbDgcO"
      },
      "source": [
        "손실 함수(Loss Function)\r\n",
        "- 경사 하강법이란 '손실 함수'가 정의되었을 때 손실 함수의 값이 **최소**가 되는 지점을 찾는 방법\r\n",
        "# 결론 : 경사하강법 = 손실함수를 최소로 만드는 것 = y(결과값) - y_hat(예측값)[지도학습]\r\n",
        "\r\n"
      ]
    },
    {
      "cell_type": "code",
      "metadata": {
        "id": "fJhmuBuGCGew"
      },
      "source": [
        ""
      ],
      "execution_count": null,
      "outputs": []
    }
  ]
}