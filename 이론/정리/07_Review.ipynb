{
  "nbformat": 4,
  "nbformat_minor": 0,
  "metadata": {
    "colab": {
      "name": "중간 Review",
      "provenance": [],
      "collapsed_sections": []
    },
    "kernelspec": {
      "name": "python3",
      "display_name": "Python 3"
    }
  },
  "cells": [
    {
      "cell_type": "markdown",
      "metadata": {
        "id": "TlkK8bQy2tXS"
      },
      "source": [
        "# Q1. 캘리포니아 주택 가격 데이터셋을 SVM 회귀를 사용해서 훈련(3점)하고, `MAE`, `MSE`, `RMSE`를 출력(1점)하세요.\n",
        "\n"
      ]
    },
    {
      "cell_type": "code",
      "metadata": {
        "id": "A-oXs8V84Ghy"
      },
      "source": [
        "# 데이터셋은 아래 코드를 사용하세요.\r\n",
        "from sklearn.datasets import fetch_california_housing"
      ],
      "execution_count": 1,
      "outputs": []
    },
    {
      "cell_type": "code",
      "metadata": {
        "id": "998roaqV2yG5",
        "colab": {
          "base_uri": "https://localhost:8080/"
        },
        "outputId": "d9614ae1-fc30-44d4-8156-c423290cc1c7"
      },
      "source": [
        "# 코드를 작성하세요\r\n",
        "from sklearn.model_selection import train_test_split\r\n",
        "from sklearn.svm import SVR\r\n",
        "\r\n",
        "# 1. 데이터셋 불러와서 data, target 나누기\r\n",
        "X, y = fetch_california_housing(return_X_y = True)\r\n",
        "\r\n",
        "# 2. 데이터셋 train/test로 나누기\r\n",
        "X_train, X_test, y_train, y_test = train_test_split(X, y)\r\n",
        "\r\n",
        "# 3. 학습\r\n",
        "model = SVR(kernel = 'rbf', gamma = 'scale', C = 0.5) # 성능을 위해서 조정 필요\r\n",
        "model.fit(X_train, y_train)\r\n",
        "\r\n",
        "# 4. 평가\r\n",
        "print(f\"학습 : {model.score(X_train, y_train)}\")\r\n",
        "print(f\"예측 : {model.score(X_test, y_test)}\")"
      ],
      "execution_count": 2,
      "outputs": [
        {
          "output_type": "stream",
          "text": [
            "Downloading Cal. housing from https://ndownloader.figshare.com/files/5976036 to /root/scikit_learn_data\n"
          ],
          "name": "stderr"
        },
        {
          "output_type": "stream",
          "text": [
            "학습 : -0.04005277081538949\n",
            "예측 : -0.03263005690929033\n"
          ],
          "name": "stdout"
        }
      ]
    },
    {
      "cell_type": "code",
      "metadata": {
        "id": "mMyukmUrEimX"
      },
      "source": [
        "predict = model.predict(X_test)"
      ],
      "execution_count": 3,
      "outputs": []
    },
    {
      "cell_type": "code",
      "metadata": {
        "colab": {
          "base_uri": "https://localhost:8080/"
        },
        "id": "0Puf7xdUEa3G",
        "outputId": "bef2c33a-8118-4553-f930-add9f5cb7754"
      },
      "source": [
        "from sklearn.metrics import mean_absolute_error, mean_squared_error\r\n",
        "import numpy as np\r\n",
        "\r\n",
        "# MAE\r\n",
        "print(f\"mean_absolute_error : {mean_absolute_error(y_test, predict)}\")\r\n",
        "# MSE\r\n",
        "print(f\"mean_squared_error : {mean_squared_error(y_test, predict)}\")\r\n",
        "# RMSE\r\n",
        "print(f\"root_mean_squared_error : {np.sqrt(mean_squared_error(y_test, predict))}\")"
      ],
      "execution_count": 4,
      "outputs": [
        {
          "output_type": "stream",
          "text": [
            "mean_absolute_error : 0.8672079194533111\n",
            "mean_squared_error : 1.3374091179144025\n",
            "root_mean_squared_error : 1.1564640582025896\n"
          ],
          "name": "stdout"
        }
      ]
    },
    {
      "cell_type": "markdown",
      "metadata": {
        "id": "793MQFOv2k5v"
      },
      "source": [
        "## BONUS! `MAE`, `MSE`, `RMSE`를 해석해보세요(+1)"
      ]
    },
    {
      "cell_type": "markdown",
      "metadata": {
        "id": "Gz0S-Qq521N-"
      },
      "source": [
        "--> 해석은 [이곳]에 텍스트로 작성하세요\r\n",
        "### MAE(Mean Absolute Error)\r\n",
        "- 모델의 예측값과 실제값의 차이를 모두 더한다는 개념(총 개수로 나눈다)\r\n",
        "- 절댓값을 취하기 때문에 가장 직관적으로 알 수 있는 지표\r\n",
        "- **MSE보다 특이치에 robust하다.**\r\n",
        "- **절댓값을 취하기 때문에 모델이 underperformance인지 overperformance인지 알 수 없다.**\r\n",
        "\r\n",
        "### MSE(Mean Squared Error)\r\n",
        "- 제곱을 하기 때문에 MAE와는 다르게 모델의 예측값과 실제값 차이의 면적의 합\r\n",
        "  -> 특이값이 존재하면 수치가 많이 늘어난다.\r\n",
        "- **특이치에 민감**(제곱을 하기 때문에 오차가 훨씬 커지게 된다.)\r\n",
        "\r\n",
        "### RMSE(Root Mean Squared Error)\r\n",
        "- RMSE를 사용하면 오류 지표를 실제 값과 유사한 **단위**로 다시 변환하여 해석을 쉽게 한다.(단위 기반 오차 분석 시 자주 사용)\r\n",
        "- 가장 보편적으로 사용된다."
      ]
    },
    {
      "cell_type": "markdown",
      "metadata": {
        "id": "_7lJReEb29uT"
      },
      "source": [
        "# Q2. 아래 데이터를 분류하고(2점), 분류 결과를 3가지(정밀도, 재현율, f1) 기준으로 평가한 결과를 출력(1점)해보세요. 단, 정확도가 '1.0' 미만 '0.9' 이상이 나오도록 하세요"
      ]
    },
    {
      "cell_type": "code",
      "metadata": {
        "id": "7T-nQFQe3ONg"
      },
      "source": [
        "# 데이터는 아래 코드를 사용하세요\r\n",
        "from sklearn.datasets import make_moons\r\n",
        "X, y = make_moons(n_samples=50000, random_state=42)"
      ],
      "execution_count": 5,
      "outputs": []
    },
    {
      "cell_type": "code",
      "metadata": {
        "id": "iihFcTk6f9he",
        "colab": {
          "base_uri": "https://localhost:8080/"
        },
        "outputId": "e1aacc6f-9442-4d77-a768-e567f9b839ba"
      },
      "source": [
        "from sklearn.svm import SVC\r\n",
        "from sklearn.metrics import accuracy_score, confusion_matrix\r\n",
        "from sklearn.metrics import precision_score, recall_score, f1_score\r\n",
        "\r\n",
        "X_train, X_test, y_train, y_test = train_test_split(X, y, random_state = 42)\r\n",
        "\r\n",
        "# model = SVC(kernel = 'linear', gamma = 0.5, C = 1) # 성능이 계속 0.88 ~..\r\n",
        "model = SVC(kernel = 'poly', degree = 3) # 차수를 조정해서 정확도를 조정할 수 있다. 차수가 높을수록 복잡해진다.\r\n",
        "model.fit(X_train, y_train)\r\n",
        "\r\n",
        "print(f\"학습 : {model.score(X_train, y_train)}\")\r\n",
        "print(f\"예측 : {model.score(X_test, y_test)}\")"
      ],
      "execution_count": 10,
      "outputs": [
        {
          "output_type": "stream",
          "text": [
            "학습 : 0.9438933333333334\n",
            "예측 : 0.94256\n"
          ],
          "name": "stdout"
        }
      ]
    },
    {
      "cell_type": "code",
      "metadata": {
        "id": "Jm608qzYGCJu"
      },
      "source": [
        "predict = model.predict(X_test)"
      ],
      "execution_count": 11,
      "outputs": []
    },
    {
      "cell_type": "code",
      "metadata": {
        "colab": {
          "base_uri": "https://localhost:8080/"
        },
        "id": "QXhWFzpwF4ub",
        "outputId": "67c179ac-c998-458d-d39e-d674b166b2eb"
      },
      "source": [
        "# 소수 넷째자리까지 반올림\r\n",
        "print(\"accuracy_score : %.4f\" % (accuracy_score(y_test, predict)))\r\n",
        "print(\"precision_score : %.4f\" % (precision_score(y_test, predict)))\r\n",
        "print(\"recall_score : %.4f\" % (recall_score(y_test, predict)))\r\n",
        "print(\"f1_score : %.4f\" % (f1_score(y_test, predict)))"
      ],
      "execution_count": 12,
      "outputs": [
        {
          "output_type": "stream",
          "text": [
            "accuracy_score : 0.9426\n",
            "precision_score : 0.9036\n",
            "recall_score : 0.9898\n",
            "f1_score : 0.9447\n"
          ],
          "name": "stdout"
        }
      ]
    },
    {
      "cell_type": "markdown",
      "metadata": {
        "id": "-NV2Rn93f9ru"
      },
      "source": [
        "## BONUS! `Q2`의 오차행렬을 출력하고, 정밀도/재현율/f1-score를 해석해보세요(+2)."
      ]
    },
    {
      "cell_type": "code",
      "metadata": {
        "id": "aMp6SKBbgG7N",
        "colab": {
          "base_uri": "https://localhost:8080/"
        },
        "outputId": "069cc0a5-b4aa-4e1a-8707-776c086ff26d"
      },
      "source": [
        "conf_matrix = confusion_matrix(y_true = y_test, y_pred = predict)\r\n",
        "print(conf_matrix)"
      ],
      "execution_count": 13,
      "outputs": [
        {
          "output_type": "stream",
          "text": [
            "[[5645  655]\n",
            " [  63 6137]]\n"
          ],
          "name": "stdout"
        }
      ]
    },
    {
      "cell_type": "markdown",
      "metadata": {
        "id": "XSZAn9rDIAQ_"
      },
      "source": [
        "[[5645 : TN(True Negative)   655 : FP(False Positive)]\r\n",
        "\r\n",
        " [  63 : FN(False Negative) 6137 : TP(True Positive) ]]"
      ]
    },
    {
      "cell_type": "markdown",
      "metadata": {
        "id": "ERBO2MinHAeQ"
      },
      "source": [
        "- 정밀도(Prediction) : Positive로 예측한 대상 중 실제로 Positive인 것의 비율\r\n",
        "  - TP / (TP + FP) : 6137 / (6137 + 655) = 0.9036(소수 넷째자리까지 반올림)\r\n",
        "- 재현율(Recall) : 실제 값 중에서 맞다고 예측한 것의 비율\r\n",
        "  - TP / (TP + FN) : 6137 / (6137 + 63) = 0.9898(소수 넷째자리까지 반올림)\r\n",
        "- F1-score : 정밀도와 재현율의 Trade-Off에서 오는 평가의 문제를 완화하기 위해서 사용하는 정밀도와 재현율의 조화 평균\r\n",
        "  - 2 * (precision * recall) / (precision + recall)\r\n",
        "    - 2*(0.9036.. * 0.9898..) / (0.9036.. + 0.9898..) = 0.9447(소수 넷째자리까지 반올림)"
      ]
    },
    {
      "cell_type": "code",
      "metadata": {
        "id": "CzF1EF4pGN7k"
      },
      "source": [
        ""
      ],
      "execution_count": 9,
      "outputs": []
    }
  ]
}