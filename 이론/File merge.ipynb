{
 "cells": [
  {
   "cell_type": "code",
   "execution_count": 2,
   "metadata": {},
   "outputs": [],
   "source": [
    "import pandas as pd\n",
    "import numpy as np\n",
    "import glob\n",
    "import sys"
   ]
  },
  {
   "cell_type": "code",
   "execution_count": null,
   "metadata": {},
   "outputs": [
    {
     "name": "stdout",
     "output_type": "stream",
     "text": [
      "(36849673, 12)\n"
     ]
    }
   ],
   "source": [
    "ecg_data = pd.DataFrame()\n",
    "for f in glob.glob('./input/mitbih_database/*.csv') :\n",
    "    df = pd.read_csv(f)\n",
    "    ecg_data = ecg_data.append(df, ignore_index = True)\n",
    "\n",
    "print(ecg_data.shape)\n",
    "\n",
    "ecg_data.head()\n",
    "\n",
    "ecg_data.to_csv('ecg.csv', header = False, index = False)"
   ]
  },
  {
   "cell_type": "code",
   "execution_count": 6,
   "metadata": {},
   "outputs": [
    {
     "name": "stdout",
     "output_type": "stream",
     "text": [
      "(112647, 1)\n"
     ]
    }
   ],
   "source": [
    "ecg_pattern_data = pd.DataFrame()\n",
    "for f in glob.glob('./input/mitbih_database/*.txt') :\n",
    "    df = pd.read_csv(f)\n",
    "    ecg_pattern_data = ecg_pattern_data.append(df, ignore_index = True)\n",
    "\n",
    "print(ecg_pattern_data.shape)\n",
    "\n",
    "ecg_pattern_data.head()\n",
    "\n",
    "ecg_pattern_data.to_csv('ecg_pattern.txt', header = False, index = False)"
   ]
  },
  {
   "cell_type": "code",
   "execution_count": null,
   "metadata": {},
   "outputs": [],
   "source": []
  }
 ],
 "metadata": {
  "kernelspec": {
   "display_name": "Python 3",
   "language": "python",
   "name": "python3"
  },
  "language_info": {
   "codemirror_mode": {
    "name": "ipython",
    "version": 3
   },
   "file_extension": ".py",
   "mimetype": "text/x-python",
   "name": "python",
   "nbconvert_exporter": "python",
   "pygments_lexer": "ipython3",
   "version": "3.8.3"
  }
 },
 "nbformat": 4,
 "nbformat_minor": 4
}
