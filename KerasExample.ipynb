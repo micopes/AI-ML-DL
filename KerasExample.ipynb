{
  "nbformat": 4,
  "nbformat_minor": 0,
  "metadata": {
    "colab": {
      "name": "KerasExample.ipynb",
      "provenance": [],
      "collapsed_sections": [
        "JjvabulcT4wM",
        "MkQkpmFZawsp",
        "r-WMNXeKIVzO",
        "lalizC9cXHm6"
      ],
      "authorship_tag": "ABX9TyOqcMldywKWg5tPnrsKy1Rc",
      "include_colab_link": true
    },
    "kernelspec": {
      "name": "python3",
      "display_name": "Python 3"
    }
  },
  "cells": [
    {
      "cell_type": "markdown",
      "metadata": {
        "id": "view-in-github",
        "colab_type": "text"
      },
      "source": [
        "<a href=\"https://colab.research.google.com/github/minjcop/machinelearning/blob/master/KerasExample.ipynb\" target=\"_parent\"><img src=\"https://colab.research.google.com/assets/colab-badge.svg\" alt=\"Open In Colab\"/></a>"
      ]
    },
    {
      "cell_type": "markdown",
      "metadata": {
        "id": "JZLb99Ky2ZpE",
        "colab_type": "text"
      },
      "source": [
        "# 텐서 플로우 초보자 Tutorial\n",
        "(https://www.tensorflow.org/tutorials/)\n"
      ]
    },
    {
      "cell_type": "markdown",
      "metadata": {
        "id": "no0WanN722uM",
        "colab_type": "text"
      },
      "source": [
        "## 연동(Google Drive 및 Github)"
      ]
    },
    {
      "cell_type": "code",
      "metadata": {
        "id": "GUhfvVsY28Id",
        "colab_type": "code",
        "colab": {
          "base_uri": "https://localhost:8080/",
          "height": 35
        },
        "outputId": "80c4c70b-0d0f-49ac-b225-956339c9dd7a"
      },
      "source": [
        "# 구글 드라이브와 Colab 연동\n",
        "from google.colab import auth\n",
        "auth.authenticate_user()\n",
        "\n",
        "from google.colab import drive\n",
        "drive.mount('/content/gdrive')"
      ],
      "execution_count": 2,
      "outputs": [
        {
          "output_type": "stream",
          "text": [
            "Drive already mounted at /content/gdrive; to attempt to forcibly remount, call drive.mount(\"/content/gdrive\", force_remount=True).\n"
          ],
          "name": "stdout"
        }
      ]
    },
    {
      "cell_type": "code",
      "metadata": {
        "id": "5No7rt3Y29ix",
        "colab_type": "code",
        "colab": {
          "base_uri": "https://localhost:8080/",
          "height": 35
        },
        "outputId": "0d7ad041-052d-4048-aa2f-ed65055b70b9"
      },
      "source": [
        "# 특정 repository를 Colab에 연동\n",
        "!git clone https://github.com/minjcop/machinelearning.git"
      ],
      "execution_count": 3,
      "outputs": [
        {
          "output_type": "stream",
          "text": [
            "fatal: destination path 'machinelearning' already exists and is not an empty directory.\n"
          ],
          "name": "stdout"
        }
      ]
    },
    {
      "cell_type": "code",
      "metadata": {
        "id": "TfrUkvGbdgHV",
        "colab_type": "code",
        "colab": {
          "base_uri": "https://localhost:8080/",
          "height": 179
        },
        "outputId": "4a3588f3-4dc4-432b-f742-7a4e7d262380"
      },
      "source": [
        "ls -ltr"
      ],
      "execution_count": 4,
      "outputs": [
        {
          "output_type": "stream",
          "text": [
            "total 4828\n",
            "drwxr-xr-x 1 root root    4096 Jul 10 16:29 \u001b[0m\u001b[01;34msample_data\u001b[0m/\n",
            "-rw-r--r-- 1 root root    2657 Jul 21 05:32 adc.json\n",
            "drwx------ 4 root root    4096 Jul 21 05:33 \u001b[01;34mgdrive\u001b[0m/\n",
            "drwxr-xr-x 6 root root    4096 Jul 21 05:34 \u001b[01;34mmachinelearning\u001b[0m/\n",
            "drwxr-xr-x 2 root root    4096 Jul 21 07:56 \u001b[01;34mtraining_1\u001b[0m/\n",
            "drwxr-xr-x 2 root root    4096 Jul 21 08:00 \u001b[01;34mtraining_2\u001b[0m/\n",
            "drwxr-xr-x 2 root root    4096 Jul 21 08:10 \u001b[01;34mcheckpoints\u001b[0m/\n",
            "-rw-r--r-- 1 root root 4911264 Jul 21 08:12 my_model.h5\n"
          ],
          "name": "stdout"
        }
      ]
    },
    {
      "cell_type": "markdown",
      "metadata": {
        "id": "JjvabulcT4wM",
        "colab_type": "text"
      },
      "source": [
        "## 기초적인 분류문제\n",
        "\n",
        "### Keras 사용( Keras : Tensorflow model을 만들고 훈련할 수 있는 고수준 APl )\n",
        "tf.keras\n"
      ]
    },
    {
      "cell_type": "code",
      "metadata": {
        "id": "CmngMyRBVn4x",
        "colab_type": "code",
        "colab": {
          "base_uri": "https://localhost:8080/",
          "height": 35
        },
        "outputId": "27ce70d3-f077-4f60-9e4a-44fbe78766bf"
      },
      "source": [
        "from __future__ import absolute_import, division, print_function, unicode_literals, unicode_literals\n",
        "\n",
        "# tensorflow와 tf.keras를 임포트합니다\n",
        "import tensorflow as tf\n",
        "from tensorflow import keras\n",
        "\n",
        "# 헬퍼(helper) 라이브러리를 임포트합니다\n",
        "import numpy as np\n",
        "import matplotlib.pyplot as plt\n",
        "\n",
        "print(tf.__version__)"
      ],
      "execution_count": 5,
      "outputs": [
        {
          "output_type": "stream",
          "text": [
            "2.2.0\n"
          ],
          "name": "stdout"
        }
      ]
    },
    {
      "cell_type": "markdown",
      "metadata": {
        "id": "MkQkpmFZawsp",
        "colab_type": "text"
      },
      "source": [
        "#### 패션 MNIST dataset 을 사용한다."
      ]
    },
    {
      "cell_type": "code",
      "metadata": {
        "id": "tCUOgBTzVxVW",
        "colab_type": "code",
        "colab": {}
      },
      "source": [
        "fashion_mnist = keras.datasets.fashion_mnist\n",
        "\n",
        "(train_images, train_labels), (test_images, test_labels) = fashion_mnist.load_data()"
      ],
      "execution_count": 6,
      "outputs": []
    },
    {
      "cell_type": "code",
      "metadata": {
        "id": "cnIiqaDdzyyS",
        "colab_type": "code",
        "colab": {}
      },
      "source": [
        "class_names = ['T-shirt/top', 'Trouser', 'Pullover', 'Dress', 'Coat',\n",
        "               'Sandal', 'Shirt', 'Sneaker', 'Bag', 'Ankle boot']"
      ],
      "execution_count": 7,
      "outputs": []
    },
    {
      "cell_type": "code",
      "metadata": {
        "id": "3TeONvCOV8E1",
        "colab_type": "code",
        "colab": {
          "base_uri": "https://localhost:8080/",
          "height": 0
        },
        "outputId": "fc0202e4-b43b-4027-e880-b861aff5ba9a"
      },
      "source": [
        "train_images.shape # 훈련세트 60000개의 레이블, 28*28 픽셀"
      ],
      "execution_count": 8,
      "outputs": [
        {
          "output_type": "execute_result",
          "data": {
            "text/plain": [
              "(60000, 28, 28)"
            ]
          },
          "metadata": {
            "tags": []
          },
          "execution_count": 8
        }
      ]
    },
    {
      "cell_type": "markdown",
      "metadata": {
        "id": "Pmoiaf56WSCQ",
        "colab_type": "text"
      },
      "source": [
        "#### 데이터 탐색"
      ]
    },
    {
      "cell_type": "code",
      "metadata": {
        "id": "FSWp4oKMV8H0",
        "colab_type": "code",
        "colab": {
          "base_uri": "https://localhost:8080/",
          "height": 35
        },
        "outputId": "a748a167-0304-4b47-f900-0577bb3e086e"
      },
      "source": [
        "len(train_labels) # 총 60000개의 이미지"
      ],
      "execution_count": 9,
      "outputs": [
        {
          "output_type": "execute_result",
          "data": {
            "text/plain": [
              "60000"
            ]
          },
          "metadata": {
            "tags": []
          },
          "execution_count": 9
        }
      ]
    },
    {
      "cell_type": "code",
      "metadata": {
        "id": "skfUZVy1V8MC",
        "colab_type": "code",
        "colab": {
          "base_uri": "https://localhost:8080/",
          "height": 35
        },
        "outputId": "6340f407-213c-4148-e754-d077bc50ac18"
      },
      "source": [
        "train_labels # 각 레이블은 0 ~ 9의 정수"
      ],
      "execution_count": 10,
      "outputs": [
        {
          "output_type": "execute_result",
          "data": {
            "text/plain": [
              "array([9, 0, 0, ..., 3, 0, 5], dtype=uint8)"
            ]
          },
          "metadata": {
            "tags": []
          },
          "execution_count": 10
        }
      ]
    },
    {
      "cell_type": "markdown",
      "metadata": {
        "id": "Kk_HT77hbqvr",
        "colab_type": "text"
      },
      "source": [
        ""
      ]
    },
    {
      "cell_type": "code",
      "metadata": {
        "id": "-39txsALV8On",
        "colab_type": "code",
        "colab": {
          "base_uri": "https://localhost:8080/",
          "height": 35
        },
        "outputId": "3d9d007f-2871-4012-ad55-49c1adbb6a23"
      },
      "source": [
        "test_images.shape # 테스트세트 10000개의 이미지에 대한 레이블, 28*28 픽셀"
      ],
      "execution_count": 11,
      "outputs": [
        {
          "output_type": "execute_result",
          "data": {
            "text/plain": [
              "(10000, 28, 28)"
            ]
          },
          "metadata": {
            "tags": []
          },
          "execution_count": 11
        }
      ]
    },
    {
      "cell_type": "code",
      "metadata": {
        "id": "W05wMi1jV8Tl",
        "colab_type": "code",
        "colab": {
          "base_uri": "https://localhost:8080/",
          "height": 35
        },
        "outputId": "7ef93024-5e80-48e3-cae1-4bb8bb0c8c0d"
      },
      "source": [
        "len(test_labels)"
      ],
      "execution_count": 12,
      "outputs": [
        {
          "output_type": "execute_result",
          "data": {
            "text/plain": [
              "10000"
            ]
          },
          "metadata": {
            "tags": []
          },
          "execution_count": 12
        }
      ]
    },
    {
      "cell_type": "markdown",
      "metadata": {
        "id": "lFz5eZolzpf9",
        "colab_type": "text"
      },
      "source": [
        "#### 데이터 전처리"
      ]
    },
    {
      "cell_type": "code",
      "metadata": {
        "id": "FAWPm4v_V8We",
        "colab_type": "code",
        "colab": {
          "base_uri": "https://localhost:8080/",
          "height": 265
        },
        "outputId": "de2334ce-a7c4-4e3d-9c54-43042ff42d1a"
      },
      "source": [
        "plt.figure()\n",
        "plt.imshow(train_images[0])\n",
        "plt.colorbar()\n",
        "plt.grid(False)\n",
        "plt.show()"
      ],
      "execution_count": 13,
      "outputs": [
        {
          "output_type": "display_data",
          "data": {
            "image/png": "[encoded data removed]",
            "text/plain": [
              "<Figure size 432x288 with 2 Axes>"
            ]
          },
          "metadata": {
            "tags": [],
            "needs_background": "light"
          }
        }
      ]
    },
    {
      "cell_type": "code",
      "metadata": {
        "id": "G2982pQVV8ZV",
        "colab_type": "code",
        "colab": {}
      },
      "source": [
        "train_images = train_images / 255.0 # 픽셀 범위 0 ~ 255\n",
        "\n",
        "test_images = test_images / 255.0"
      ],
      "execution_count": 14,
      "outputs": []
    },
    {
      "cell_type": "code",
      "metadata": {
        "id": "NcphvTlnV8b-",
        "colab_type": "code",
        "colab": {
          "base_uri": "https://localhost:8080/",
          "height": 589
        },
        "outputId": "fd33203d-f112-459d-f9cf-a74f8a237993"
      },
      "source": [
        "# training set 에서 처음 25개의 이미지와 클래스 이름을 출력\n",
        "plt.figure(figsize=(10,10))\n",
        "for i in range(25):\n",
        "    plt.subplot(5,5,i+1)\n",
        "    plt.xticks([])\n",
        "    plt.yticks([])\n",
        "    plt.grid(False)\n",
        "    plt.imshow(train_images[i], cmap=plt.cm.binary)\n",
        "    plt.xlabel(class_names[train_labels[i]])\n",
        "plt.show()"
      ],
      "execution_count": 15,
      "outputs": [
        {
          "output_type": "display_data",
          "data": {
            "image/png": "[encoded data removed]",
            "text/plain": [
              "<Figure size 720x720 with 25 Axes>"
            ]
          },
          "metadata": {
            "tags": []
          }
        }
      ]
    },
    {
      "cell_type": "markdown",
      "metadata": {
        "id": "uCJmDjR8zkzy",
        "colab_type": "text"
      },
      "source": [
        "#### 층 설정"
      ]
    },
    {
      "cell_type": "code",
      "metadata": {
        "id": "K9dBIoZuV8eg",
        "colab_type": "code",
        "colab": {}
      },
      "source": [
        "model = keras.Sequential([\n",
        "    keras.layers.Flatten(input_shape=(28, 28)),\n",
        "    keras.layers.Dense(128, activation='relu'),\n",
        "    keras.layers.Dense(10, activation='softmax')\n",
        "])"
      ],
      "execution_count": 16,
      "outputs": []
    },
    {
      "cell_type": "markdown",
      "metadata": {
        "id": "Ps7AnEtHziA_",
        "colab_type": "text"
      },
      "source": [
        "#### 모델 컴파일"
      ]
    },
    {
      "cell_type": "code",
      "metadata": {
        "id": "tBXM3e99V8hY",
        "colab_type": "code",
        "colab": {}
      },
      "source": [
        "model.compile(optimizer='adam',\n",
        "              loss='sparse_categorical_crossentropy',\n",
        "              metrics=['accuracy'])"
      ],
      "execution_count": 17,
      "outputs": []
    },
    {
      "cell_type": "markdown",
      "metadata": {
        "id": "QqgNSOnizc0R",
        "colab_type": "text"
      },
      "source": [
        "#### 모델 훈련"
      ]
    },
    {
      "cell_type": "code",
      "metadata": {
        "id": "Ew3NxluPV8mV",
        "colab_type": "code",
        "colab": {
          "base_uri": "https://localhost:8080/",
          "height": 215
        },
        "outputId": "e8a3fe86-07a1-46b5-ec70-f39293d4e74b"
      },
      "source": [
        "model.fit(train_images, train_labels, epochs=5)"
      ],
      "execution_count": 18,
      "outputs": [
        {
          "output_type": "stream",
          "text": [
            "Epoch 1/5\n",
            "1875/1875 [==============================] - 4s 2ms/step - loss: 0.4951 - accuracy: 0.8262\n",
            "Epoch 2/5\n",
            "1875/1875 [==============================] - 4s 2ms/step - loss: 0.3725 - accuracy: 0.8666\n",
            "Epoch 3/5\n",
            "1875/1875 [==============================] - 4s 2ms/step - loss: 0.3357 - accuracy: 0.8778\n",
            "Epoch 4/5\n",
            "1875/1875 [==============================] - 4s 2ms/step - loss: 0.3107 - accuracy: 0.8858\n",
            "Epoch 5/5\n",
            "1875/1875 [==============================] - 4s 2ms/step - loss: 0.2949 - accuracy: 0.8921\n"
          ],
          "name": "stdout"
        },
        {
          "output_type": "execute_result",
          "data": {
            "text/plain": [
              "<tensorflow.python.keras.callbacks.History at 0x7f46e35f7e48>"
            ]
          },
          "metadata": {
            "tags": []
          },
          "execution_count": 18
        }
      ]
    },
    {
      "cell_type": "markdown",
      "metadata": {
        "id": "Ukuu6JwezUFE",
        "colab_type": "text"
      },
      "source": [
        "#### 정확도 평가"
      ]
    },
    {
      "cell_type": "code",
      "metadata": {
        "id": "xmv-C5OUWjSw",
        "colab_type": "code",
        "colab": {
          "base_uri": "https://localhost:8080/",
          "height": 71
        },
        "outputId": "f1ae7317-cc43-423d-fbe1-54f1f0f65749"
      },
      "source": [
        "test_loss, test_acc = model.evaluate(test_images, test_labels, verbose=2)\n",
        "print('\\n테스트 정확도 : ', test_acc)"
      ],
      "execution_count": 19,
      "outputs": [
        {
          "output_type": "stream",
          "text": [
            "313/313 - 0s - loss: 0.3479 - accuracy: 0.8730\n",
            "\n",
            "테스트 정확도 :  0.8730000257492065\n"
          ],
          "name": "stdout"
        }
      ]
    },
    {
      "cell_type": "markdown",
      "metadata": {
        "id": "rTXOsp0iWjVo",
        "colab_type": "text"
      },
      "source": [
        "#### 예측 만들기"
      ]
    },
    {
      "cell_type": "code",
      "metadata": {
        "id": "NMiwqFMX0Av7",
        "colab_type": "code",
        "colab": {}
      },
      "source": [
        "predictions = model.predict(test_images)"
      ],
      "execution_count": 20,
      "outputs": []
    },
    {
      "cell_type": "code",
      "metadata": {
        "id": "5SyvjwGr0Bbs",
        "colab_type": "code",
        "colab": {
          "base_uri": "https://localhost:8080/",
          "height": 71
        },
        "outputId": "b3716eca-c7e4-474a-c9d7-0ebd02eb68d4"
      },
      "source": [
        "predictions[0] # 첫번째 예측"
      ],
      "execution_count": 21,
      "outputs": [
        {
          "output_type": "execute_result",
          "data": {
            "text/plain": [
              "array([2.0719410e-05, 2.1220731e-07, 3.7645671e-07, 3.0625890e-07,\n",
              "       5.5280669e-08, 2.0309189e-02, 3.5735547e-06, 2.0636870e-02,\n",
              "       1.9784302e-06, 9.5902675e-01], dtype=float32)"
            ]
          },
          "metadata": {
            "tags": []
          },
          "execution_count": 21
        }
      ]
    },
    {
      "cell_type": "code",
      "metadata": {
        "id": "RF7u1KyD0BeL",
        "colab_type": "code",
        "colab": {
          "base_uri": "https://localhost:8080/",
          "height": 35
        },
        "outputId": "99e8861a-f5e4-4eef-f9c1-5171d8dd6b37"
      },
      "source": [
        "np.argmax(predictions[0]) # 신뢰도가 가장 높은 것"
      ],
      "execution_count": 22,
      "outputs": [
        {
          "output_type": "execute_result",
          "data": {
            "text/plain": [
              "9"
            ]
          },
          "metadata": {
            "tags": []
          },
          "execution_count": 22
        }
      ]
    },
    {
      "cell_type": "code",
      "metadata": {
        "id": "tAi_lK_30Bgc",
        "colab_type": "code",
        "colab": {
          "base_uri": "https://localhost:8080/",
          "height": 35
        },
        "outputId": "a19c982c-fa4c-4eb0-93e1-b947e0dca16d"
      },
      "source": [
        "test_labels[0] # 위에서는 class_name[9]라고 예측하고 있는데 이것이 맞는지를 확인"
      ],
      "execution_count": 23,
      "outputs": [
        {
          "output_type": "execute_result",
          "data": {
            "text/plain": [
              "9"
            ]
          },
          "metadata": {
            "tags": []
          },
          "execution_count": 23
        }
      ]
    },
    {
      "cell_type": "code",
      "metadata": {
        "id": "0YbG7dX00BjV",
        "colab_type": "code",
        "colab": {}
      },
      "source": [
        "def plot_image(i, predictions_array, true_label, img):\n",
        "  predictions_array, true_label, img = predictions_array[i], true_label[i], img[i]\n",
        "  plt.grid(False)\n",
        "  plt.xticks([])\n",
        "  plt.yticks([])\n",
        "\n",
        "  plt.imshow(img, cmap=plt.cm.binary)\n",
        "\n",
        "  predicted_label = np.argmax(predictions_array)\n",
        "  if predicted_label == true_label:\n",
        "    color = 'blue'\n",
        "  else:\n",
        "    color = 'red'\n",
        "\n",
        "  plt.xlabel(\"{} {:2.0f}% ({})\".format(class_names[predicted_label],\n",
        "                                100*np.max(predictions_array),\n",
        "                                class_names[true_label]),\n",
        "                                color=color)\n",
        "\n",
        "def plot_value_array(i, predictions_array, true_label):\n",
        "  predictions_array, true_label = predictions_array[i], true_label[i]\n",
        "  plt.grid(False)\n",
        "  plt.xticks([])\n",
        "  plt.yticks([])\n",
        "  thisplot = plt.bar(range(10), predictions_array, color=\"#221111\")\n",
        "  plt.ylim([0, 1])\n",
        "  predicted_label = np.argmax(predictions_array)\n",
        "\n",
        "  thisplot[predicted_label].set_color('red')\n",
        "\n",
        "  thisplot[true_label].set_color('blue')"
      ],
      "execution_count": 24,
      "outputs": []
    },
    {
      "cell_type": "code",
      "metadata": {
        "id": "A2wINlFT0Bl9",
        "colab_type": "code",
        "colab": {
          "base_uri": "https://localhost:8080/",
          "height": 203
        },
        "outputId": "fe895b9a-f36c-4f05-ec41-6c6fae81c855"
      },
      "source": [
        "# 0번째 원소의 이미지, 예측, 신뢰도 점수 확인\n",
        "i = 0\n",
        "plt.figure(figsize=(6,3))\n",
        "plt.subplot(1,2,1)\n",
        "plot_image(i, predictions, test_labels, test_images)\n",
        "plt.subplot(1,2,2)\n",
        "plot_value_array(i, predictions,  test_labels)\n",
        "plt.show()"
      ],
      "execution_count": 25,
      "outputs": [
        {
          "output_type": "display_data",
          "data": {
            "image/png": "[encoded data removed]",
            "text/plain": [
              "<Figure size 432x216 with 2 Axes>"
            ]
          },
          "metadata": {
            "tags": []
          }
        }
      ]
    },
    {
      "cell_type": "code",
      "metadata": {
        "id": "CL4eD3t7043S",
        "colab_type": "code",
        "colab": {
          "base_uri": "https://localhost:8080/",
          "height": 203
        },
        "outputId": "c57cd4f0-e058-4a9e-d69e-40278e757787"
      },
      "source": [
        "i = 12\n",
        "plt.figure(figsize=(6,3))\n",
        "plt.subplot(1,2,1)\n",
        "plot_image(i, predictions, test_labels, test_images)\n",
        "plt.subplot(1,2,2)\n",
        "plot_value_array(i, predictions,  test_labels)\n",
        "plt.show()"
      ],
      "execution_count": 26,
      "outputs": [
        {
          "output_type": "display_data",
          "data": {
            "image/png": "[encoded data removed]",
            "text/plain": [
              "<Figure size 432x216 with 2 Axes>"
            ]
          },
          "metadata": {
            "tags": []
          }
        }
      ]
    },
    {
      "cell_type": "code",
      "metadata": {
        "id": "OWnti0fk1XNh",
        "colab_type": "code",
        "colab": {}
      },
      "source": [
        "# 올바르게 예측된 경우 파랑색, 잘못 예측된 경우 빨강색으로 나타난다."
      ],
      "execution_count": 27,
      "outputs": []
    },
    {
      "cell_type": "code",
      "metadata": {
        "id": "fclZV_FH1cPy",
        "colab_type": "code",
        "colab": {
          "base_uri": "https://localhost:8080/",
          "height": 589
        },
        "outputId": "708df3cd-49b6-42df-de32-21d7bb65ec33"
      },
      "source": [
        "num_rows = 5\n",
        "num_cols = 3\n",
        "num_images = num_rows*num_cols\n",
        "plt.figure(figsize=(2*2*num_cols, 2*num_rows))\n",
        "for i in range(num_images):\n",
        "  plt.subplot(num_rows, 2*num_cols, 2*i+1)\n",
        "  plot_image(i, predictions, test_labels, test_images)\n",
        "  plt.subplot(num_rows, 2*num_cols, 2*i+2)\n",
        "  plot_value_array(i, predictions, test_labels)\n",
        "plt.show()"
      ],
      "execution_count": 28,
      "outputs": [
        {
          "output_type": "display_data",
          "data": {
            "image/png": "[encoded data removed]",
            "text/plain": [
              "<Figure size 864x720 with 30 Axes>"
            ]
          },
          "metadata": {
            "tags": []
          }
        }
      ]
    },
    {
      "cell_type": "code",
      "metadata": {
        "id": "YpP1CtKk1hJO",
        "colab_type": "code",
        "colab": {
          "base_uri": "https://localhost:8080/",
          "height": 35
        },
        "outputId": "2258f53c-956c-442b-a7b1-a33790e7b446"
      },
      "source": [
        "# 테스트 세트에서 이미지 하나를 선택합니다\n",
        "img = test_images[0]\n",
        "\n",
        "print(img.shape)"
      ],
      "execution_count": 29,
      "outputs": [
        {
          "output_type": "stream",
          "text": [
            "(28, 28)\n"
          ],
          "name": "stdout"
        }
      ]
    },
    {
      "cell_type": "code",
      "metadata": {
        "id": "cEQAUVZM1hkc",
        "colab_type": "code",
        "colab": {
          "base_uri": "https://localhost:8080/",
          "height": 35
        },
        "outputId": "49b7bdf9-66b3-4404-8192-67acd39ec4d6"
      },
      "source": [
        "# 이미지 하나만 사용할 때도 배치에 추가합니다\n",
        "img = (np.expand_dims(img,0))\n",
        "\n",
        "print(img.shape)"
      ],
      "execution_count": 30,
      "outputs": [
        {
          "output_type": "stream",
          "text": [
            "(1, 28, 28)\n"
          ],
          "name": "stdout"
        }
      ]
    },
    {
      "cell_type": "code",
      "metadata": {
        "id": "C7XZdzbO1hm-",
        "colab_type": "code",
        "colab": {
          "base_uri": "https://localhost:8080/",
          "height": 53
        },
        "outputId": "86b0c06b-c894-4887-9bc3-c6fe6e5cd2fc"
      },
      "source": [
        "predictions_single = model.predict(img)\n",
        "\n",
        "print(predictions_single)"
      ],
      "execution_count": 31,
      "outputs": [
        {
          "output_type": "stream",
          "text": [
            "[[2.0719430e-05 2.1220751e-07 3.7645742e-07 3.0625975e-07 5.5280768e-08\n",
            "  2.0309210e-02 3.5735513e-06 2.0636892e-02 1.9784320e-06 9.5902675e-01]]\n"
          ],
          "name": "stdout"
        }
      ]
    },
    {
      "cell_type": "code",
      "metadata": {
        "id": "5QfJTVks1hp0",
        "colab_type": "code",
        "colab": {
          "base_uri": "https://localhost:8080/",
          "height": 300
        },
        "outputId": "964f06a0-24ae-4057-fc84-7d5df8a8ffb3"
      },
      "source": [
        "plot_value_array(0, predictions_single, test_labels)\n",
        "_ = plt.xticks(range(10), class_names, rotation=45)"
      ],
      "execution_count": 32,
      "outputs": [
        {
          "output_type": "display_data",
          "data": {
            "image/png": "[encoded data removed]",
            "text/plain": [
              "<Figure size 432x288 with 1 Axes>"
            ]
          },
          "metadata": {
            "tags": [],
            "needs_background": "light"
          }
        }
      ]
    },
    {
      "cell_type": "code",
      "metadata": {
        "id": "qEbsJLj11huX",
        "colab_type": "code",
        "colab": {
          "base_uri": "https://localhost:8080/",
          "height": 35
        },
        "outputId": "b5623702-4ad2-40fe-f948-894ea12bc3e8"
      },
      "source": [
        "np.argmax(predictions_single[0])"
      ],
      "execution_count": 33,
      "outputs": [
        {
          "output_type": "execute_result",
          "data": {
            "text/plain": [
              "9"
            ]
          },
          "metadata": {
            "tags": []
          },
          "execution_count": 33
        }
      ]
    },
    {
      "cell_type": "markdown",
      "metadata": {
        "id": "r-WMNXeKIVzO",
        "colab_type": "text"
      },
      "source": [
        "## 영화 리뷰를 사용한 텍스트 분류"
      ]
    },
    {
      "cell_type": "code",
      "metadata": {
        "id": "8jhA-gnhIcWj",
        "colab_type": "code",
        "colab": {
          "base_uri": "https://localhost:8080/",
          "height": 71
        },
        "outputId": "fb8d68bd-45c6-46d7-bdbd-1e0214ea93b6"
      },
      "source": [
        "from __future__ import absolute_import, division, print_function, unicode_literals\n",
        "\n",
        "!pip install -q tf-nightly-2.0-preview\n",
        "import tensorflow as tf\n",
        "from tensorflow import keras\n",
        "\n",
        "import numpy as np\n",
        "\n",
        "print(tf.__version__)"
      ],
      "execution_count": 34,
      "outputs": [
        {
          "output_type": "stream",
          "text": [
            "\u001b[31mERROR: Could not find a version that satisfies the requirement tf-nightly-2.0-preview (from versions: none)\u001b[0m\n",
            "\u001b[31mERROR: No matching distribution found for tf-nightly-2.0-preview\u001b[0m\n",
            "2.2.0\n"
          ],
          "name": "stdout"
        }
      ]
    },
    {
      "cell_type": "markdown",
      "metadata": {
        "id": "bEaRYr5-IoQc",
        "colab_type": "text"
      },
      "source": [
        "### IMDB 데이터셋 다운로드"
      ]
    },
    {
      "cell_type": "code",
      "metadata": {
        "id": "x8zKDczaIj1x",
        "colab_type": "code",
        "colab": {}
      },
      "source": [
        "imdb = keras.datasets.imdb\n",
        "\n",
        "(train_data, train_labels), (test_data, test_labels) = imdb.load_data(num_words=10000)"
      ],
      "execution_count": 35,
      "outputs": []
    },
    {
      "cell_type": "markdown",
      "metadata": {
        "id": "wJp3m3V8ImRK",
        "colab_type": "text"
      },
      "source": [
        "### 데이터 탐색"
      ]
    },
    {
      "cell_type": "code",
      "metadata": {
        "id": "NLTUEx1rIue2",
        "colab_type": "code",
        "colab": {
          "base_uri": "https://localhost:8080/",
          "height": 35
        },
        "outputId": "b826f64e-6119-41cf-ba9b-fb560fac6be4"
      },
      "source": [
        "print(\"훈련 샘플: {}, 레이블: {}\".format(len(train_data), len(train_labels)))"
      ],
      "execution_count": 36,
      "outputs": [
        {
          "output_type": "stream",
          "text": [
            "훈련 샘플: 25000, 레이블: 25000\n"
          ],
          "name": "stdout"
        }
      ]
    },
    {
      "cell_type": "code",
      "metadata": {
        "id": "aRp3n-VeIwPD",
        "colab_type": "code",
        "colab": {
          "base_uri": "https://localhost:8080/",
          "height": 55
        },
        "outputId": "388c8031-f21d-4fc1-8459-d33ec6f49cba"
      },
      "source": [
        "print(train_data[0]) # 특정 단어를 나타내는 정수로 변환되어 있다."
      ],
      "execution_count": 37,
      "outputs": [
        {
          "output_type": "stream",
          "text": [
            "[1, 14, 22, 16, 43, 530, 973, 1622, 1385, 65, 458, 4468, 66, 3941, 4, 173, 36, 256, 5, 25, 100, 43, 838, 112, 50, 670, 2, 9, 35, 480, 284, 5, 150, 4, 172, 112, 167, 2, 336, 385, 39, 4, 172, 4536, 1111, 17, 546, 38, 13, 447, 4, 192, 50, 16, 6, 147, 2025, 19, 14, 22, 4, 1920, 4613, 469, 4, 22, 71, 87, 12, 16, 43, 530, 38, 76, 15, 13, 1247, 4, 22, 17, 515, 17, 12, 16, 626, 18, 2, 5, 62, 386, 12, 8, 316, 8, 106, 5, 4, 2223, 5244, 16, 480, 66, 3785, 33, 4, 130, 12, 16, 38, 619, 5, 25, 124, 51, 36, 135, 48, 25, 1415, 33, 6, 22, 12, 215, 28, 77, 52, 5, 14, 407, 16, 82, 2, 8, 4, 107, 117, 5952, 15, 256, 4, 2, 7, 3766, 5, 723, 36, 71, 43, 530, 476, 26, 400, 317, 46, 7, 4, 2, 1029, 13, 104, 88, 4, 381, 15, 297, 98, 32, 2071, 56, 26, 141, 6, 194, 7486, 18, 4, 226, 22, 21, 134, 476, 26, 480, 5, 144, 30, 5535, 18, 51, 36, 28, 224, 92, 25, 104, 4, 226, 65, 16, 38, 1334, 88, 12, 16, 283, 5, 16, 4472, 113, 103, 32, 15, 16, 5345, 19, 178, 32]\n"
          ],
          "name": "stdout"
        }
      ]
    },
    {
      "cell_type": "code",
      "metadata": {
        "id": "9wbZkZ_iI1QP",
        "colab_type": "code",
        "colab": {
          "base_uri": "https://localhost:8080/",
          "height": 35
        },
        "outputId": "4b231135-db9b-4603-8828-8e740680d82c"
      },
      "source": [
        "len(train_data[0]), len(train_data[1]) # 단어의 개수"
      ],
      "execution_count": 38,
      "outputs": [
        {
          "output_type": "execute_result",
          "data": {
            "text/plain": [
              "(218, 189)"
            ]
          },
          "metadata": {
            "tags": []
          },
          "execution_count": 38
        }
      ]
    },
    {
      "cell_type": "markdown",
      "metadata": {
        "id": "00RsUCpqI4hR",
        "colab_type": "text"
      },
      "source": [
        "#### 정수를 단어로 다시 변환"
      ]
    },
    {
      "cell_type": "code",
      "metadata": {
        "id": "7lhrQ90QI485",
        "colab_type": "code",
        "colab": {}
      },
      "source": [
        "# 단어와 정수 인덱스를 매핑한 딕셔너리\n",
        "word_index = imdb.get_word_index()\n",
        "\n",
        "# 처음 몇 개 인덱스는 사전에 정의되어 있습니다\n",
        "word_index = {k:(v+3) for k,v in word_index.items()}\n",
        "word_index[\"<PAD>\"] = 0\n",
        "word_index[\"<START>\"] = 1\n",
        "word_index[\"<UNK>\"] = 2  # unknown\n",
        "word_index[\"<UNUSED>\"] = 3\n",
        "\n",
        "reverse_word_index = dict([(value, key) for (key, value) in word_index.items()])\n",
        "\n",
        "def decode_review(text):\n",
        "    return ' '.join([reverse_word_index.get(i, '?') for i in text])"
      ],
      "execution_count": 39,
      "outputs": []
    },
    {
      "cell_type": "code",
      "metadata": {
        "id": "pIKmhd1ZI4_2",
        "colab_type": "code",
        "colab": {
          "base_uri": "https://localhost:8080/",
          "height": 107
        },
        "outputId": "a7e6f9e6-621f-4dfa-90e4-2a4069e2469b"
      },
      "source": [
        "decode_review(train_data[0]) # 첫번째 리뷰 텍스트 출력"
      ],
      "execution_count": 40,
      "outputs": [
        {
          "output_type": "execute_result",
          "data": {
            "application/vnd.google.colaboratory.intrinsic": {
              "type": "string"
            },
            "text/plain": [
              "\"<START> this film was just brilliant casting location scenery story direction everyone's really suited the part they played and you could just imagine being there robert <UNK> is an amazing actor and now the same being director <UNK> father came from the same scottish island as myself so i loved the fact there was a real connection with this film the witty remarks throughout the film were great it was just brilliant so much that i bought the film as soon as it was released for <UNK> and would recommend it to everyone to watch and the fly fishing was amazing really cried at the end it was so sad and you know what they say if you cry at a film it must have been good and this definitely was also <UNK> to the two little boy's that played the <UNK> of norman and paul they were just brilliant children are often left out of the <UNK> list i think because the stars that play them all grown up are such a big profile for the whole film but these children are amazing and should be praised for what they have done don't you think the whole story was so lovely because it was true and was someone's life after all that was shared with us all\""
            ]
          },
          "metadata": {
            "tags": []
          },
          "execution_count": 40
        }
      ]
    },
    {
      "cell_type": "markdown",
      "metadata": {
        "id": "bRtgh5PSI5EI",
        "colab_type": "text"
      },
      "source": [
        "### 데이터 준비"
      ]
    },
    {
      "cell_type": "code",
      "metadata": {
        "id": "PQzVUNELI5J_",
        "colab_type": "code",
        "colab": {}
      },
      "source": [
        "train_data = keras.preprocessing.sequence.pad_sequences(train_data,\n",
        "                                                        value=word_index[\"<PAD>\"],\n",
        "                                                        padding='post',\n",
        "                                                        maxlen=256)\n",
        "\n",
        "test_data = keras.preprocessing.sequence.pad_sequences(test_data,\n",
        "                                                       value=word_index[\"<PAD>\"],\n",
        "                                                       padding='post',\n",
        "                                                       maxlen=256)"
      ],
      "execution_count": 41,
      "outputs": []
    },
    {
      "cell_type": "code",
      "metadata": {
        "id": "h_JUx6l9I5P8",
        "colab_type": "code",
        "colab": {
          "base_uri": "https://localhost:8080/",
          "height": 35
        },
        "outputId": "00d26cf2-0925-463c-cd8f-25360aba3060"
      },
      "source": [
        "len(train_data[0]), len(train_data[1])"
      ],
      "execution_count": 42,
      "outputs": [
        {
          "output_type": "execute_result",
          "data": {
            "text/plain": [
              "(256, 256)"
            ]
          },
          "metadata": {
            "tags": []
          },
          "execution_count": 42
        }
      ]
    },
    {
      "cell_type": "code",
      "metadata": {
        "id": "PcVXK0TpJOjh",
        "colab_type": "code",
        "colab": {
          "base_uri": "https://localhost:8080/",
          "height": 359
        },
        "outputId": "54a7c6e2-2945-4a0c-e038-9d8987868e4c"
      },
      "source": [
        "# 패딩된 첫 번째 리뷰 내용 확인\n",
        "print(train_data[0])"
      ],
      "execution_count": 43,
      "outputs": [
        {
          "output_type": "stream",
          "text": [
            "[   1   14   22   16   43  530  973 1622 1385   65  458 4468   66 3941\n",
            "    4  173   36  256    5   25  100   43  838  112   50  670    2    9\n",
            "   35  480  284    5  150    4  172  112  167    2  336  385   39    4\n",
            "  172 4536 1111   17  546   38   13  447    4  192   50   16    6  147\n",
            " 2025   19   14   22    4 1920 4613  469    4   22   71   87   12   16\n",
            "   43  530   38   76   15   13 1247    4   22   17  515   17   12   16\n",
            "  626   18    2    5   62  386   12    8  316    8  106    5    4 2223\n",
            " 5244   16  480   66 3785   33    4  130   12   16   38  619    5   25\n",
            "  124   51   36  135   48   25 1415   33    6   22   12  215   28   77\n",
            "   52    5   14  407   16   82    2    8    4  107  117 5952   15  256\n",
            "    4    2    7 3766    5  723   36   71   43  530  476   26  400  317\n",
            "   46    7    4    2 1029   13  104   88    4  381   15  297   98   32\n",
            " 2071   56   26  141    6  194 7486   18    4  226   22   21  134  476\n",
            "   26  480    5  144   30 5535   18   51   36   28  224   92   25  104\n",
            "    4  226   65   16   38 1334   88   12   16  283    5   16 4472  113\n",
            "  103   32   15   16 5345   19  178   32    0    0    0    0    0    0\n",
            "    0    0    0    0    0    0    0    0    0    0    0    0    0    0\n",
            "    0    0    0    0    0    0    0    0    0    0    0    0    0    0\n",
            "    0    0    0    0]\n"
          ],
          "name": "stdout"
        }
      ]
    },
    {
      "cell_type": "markdown",
      "metadata": {
        "id": "ccY4Ka2eJZEi",
        "colab_type": "text"
      },
      "source": [
        "### 모델 구성\n",
        "* 모델에서 얼마나 많은 층을 사용할 것인가?\n",
        "* 각 층에서 얼마나 많은 은닉 유닛(Hidden unit)을 사용할 것인가?"
      ]
    },
    {
      "cell_type": "code",
      "metadata": {
        "id": "_7oP13JxJZfs",
        "colab_type": "code",
        "colab": {
          "base_uri": "https://localhost:8080/",
          "height": 305
        },
        "outputId": "c1f7cdaf-02d6-4e7c-a92a-4191435dbf42"
      },
      "source": [
        "vocab_size = 10000\n",
        "\n",
        "model = keras.Sequential()\n",
        "model.add(keras.layers.Embedding(vocab_size, 16, input_shape=(None,)))\n",
        "model.add(keras.layers.GlobalAveragePooling1D())\n",
        "model.add(keras.layers.Dense(16, activation='relu'))\n",
        "model.add(keras.layers.Dense(1, activation='sigmoid'))\n",
        "\n",
        "model.summary()"
      ],
      "execution_count": 44,
      "outputs": [
        {
          "output_type": "stream",
          "text": [
            "Model: \"sequential_1\"\n",
            "_________________________________________________________________\n",
            "Layer (type)                 Output Shape              Param #   \n",
            "=================================================================\n",
            "embedding (Embedding)        (None, None, 16)          160000    \n",
            "_________________________________________________________________\n",
            "global_average_pooling1d (Gl (None, 16)                0         \n",
            "_________________________________________________________________\n",
            "dense_2 (Dense)              (None, 16)                272       \n",
            "_________________________________________________________________\n",
            "dense_3 (Dense)              (None, 1)                 17        \n",
            "=================================================================\n",
            "Total params: 160,289\n",
            "Trainable params: 160,289\n",
            "Non-trainable params: 0\n",
            "_________________________________________________________________\n"
          ],
          "name": "stdout"
        }
      ]
    },
    {
      "cell_type": "markdown",
      "metadata": {
        "id": "qJsF5P9EJZjr",
        "colab_type": "text"
      },
      "source": [
        "1. 첫 번째 층은 Embedding 층입니다. 이 층은 정수로 인코딩된 단어를 입력 받고 각 단어 인덱스에 해당하는 임베딩 벡터를 찾습니다. 이 벡터는 모델이 훈련되면서 학습됩니다. 이 벡터는 출력 배열에 새로운 차원으로 추가됩니다. 최종 차원은 (batch, sequence, embedding)이 됩니다.\n",
        "2. 그다음 GlobalAveragePooling1D 층은 sequence 차원에 대해 평균을 계산하여 각 샘플에 대해 고정된 길이의 출력 벡터를 반환합니다. 이는 길이가 다른 입력을 다루는 가장 간단한 방법입니다.\n",
        "3. 이 고정 길이의 출력 벡터는 16개의 은닉 유닛을 가진 완전 연결(fully-connected) 층(Dense)을 거칩니다.\n",
        "4. 마지막 층은 하나의 출력 노드(node)를 가진 완전 연결 층입니다. sigmoid 활성화 함수를 사용하여 0과 1 사이의 실수를 출력합니다. 이 값은 확률 또는 신뢰도를 나타냅니다."
      ]
    },
    {
      "cell_type": "markdown",
      "metadata": {
        "id": "5TxxBZBdJZoB",
        "colab_type": "text"
      },
      "source": [
        " 은닉 유닛(Hidden Unit)\n",
        "* 위 모델에는 입력과 출력 사이에 두 개의 중간 또는 '은닉' 층이 있다. 출력의 개수는 층이 가진 표현공간(representational space)의 차원이 된다. 다른 말로 하면, 내부 표현을 학습할 때 허용되는 네트워크 자유도의 양이다.\n",
        "\n",
        "* 모델에 많은 은닉 유닛(고차원의 표현 공간)과 층이 있다면 네트워크는 더 복잡한 표현을 학습할 수 있다. 하지만 네트워크의 계산 비용이 많이 들고 원치 않는 패턴을 학습할 수도 있다. 이런 표현은 훈련 데이터의 성능을 향상시키지만 테스트 데이터에서는 그렇지 않다. 이를 과적합(Overfitting)이라고 한다. \n",
        "\n",
        "\n"
      ]
    },
    {
      "cell_type": "markdown",
      "metadata": {
        "id": "e--lrRlKJZso",
        "colab_type": "text"
      },
      "source": [
        "손실 함수와 옵티마이저\n",
        "\n",
        "- 모델이 훈련하려면 손실 함수(loss function)과 옵티마이저(optimizer)가 필요하다."
      ]
    },
    {
      "cell_type": "code",
      "metadata": {
        "id": "yOECayxyJZw_",
        "colab_type": "code",
        "colab": {}
      },
      "source": [
        "model.compile(optimizer='adam',\n",
        "              loss='binary_crossentropy',\n",
        "              metrics=['accuracy'])"
      ],
      "execution_count": 45,
      "outputs": []
    },
    {
      "cell_type": "markdown",
      "metadata": {
        "id": "IEsWvk00JZ2A",
        "colab_type": "text"
      },
      "source": [
        "### 검증 세트 만들기"
      ]
    },
    {
      "cell_type": "code",
      "metadata": {
        "id": "XTxMWAZSJZ6b",
        "colab_type": "code",
        "colab": {}
      },
      "source": [
        "# 원본 데이터에서 10000개를 가져와서 검증 세트를 만든다.\n",
        "x_val = train_data[:10000]\n",
        "partial_x_train = train_data[10000:]\n",
        "\n",
        "y_val = train_labels[:10000]\n",
        "partial_y_train = train_labels[10000:]"
      ],
      "execution_count": 46,
      "outputs": []
    },
    {
      "cell_type": "markdown",
      "metadata": {
        "id": "hR9DyE8JJZ-q",
        "colab_type": "text"
      },
      "source": [
        "### 모델 훈련"
      ]
    },
    {
      "cell_type": "code",
      "metadata": {
        "id": "8RuRjjNdJaC2",
        "colab_type": "code",
        "colab": {
          "base_uri": "https://localhost:8080/",
          "height": 1000
        },
        "outputId": "7c6c20be-8ec9-4481-eeba-1d1018ac69b7"
      },
      "source": [
        "history = model.fit(partial_x_train,\n",
        "                    partial_y_train,\n",
        "                    epochs=40,\n",
        "                    batch_size=512,\n",
        "                    validation_data=(x_val, y_val),\n",
        "                    verbose=1)"
      ],
      "execution_count": 47,
      "outputs": [
        {
          "output_type": "stream",
          "text": [
            "Epoch 1/40\n",
            "30/30 [==============================] - 1s 20ms/step - loss: 0.6924 - accuracy: 0.5035 - val_loss: 0.6910 - val_accuracy: 0.5080\n",
            "Epoch 2/40\n",
            "30/30 [==============================] - 1s 18ms/step - loss: 0.6880 - accuracy: 0.6878 - val_loss: 0.6847 - val_accuracy: 0.7119\n",
            "Epoch 3/40\n",
            "30/30 [==============================] - 1s 20ms/step - loss: 0.6780 - accuracy: 0.7447 - val_loss: 0.6719 - val_accuracy: 0.7331\n",
            "Epoch 4/40\n",
            "30/30 [==============================] - 1s 19ms/step - loss: 0.6593 - accuracy: 0.7513 - val_loss: 0.6499 - val_accuracy: 0.7605\n",
            "Epoch 5/40\n",
            "30/30 [==============================] - 1s 21ms/step - loss: 0.6303 - accuracy: 0.7819 - val_loss: 0.6194 - val_accuracy: 0.7732\n",
            "Epoch 6/40\n",
            "30/30 [==============================] - 1s 20ms/step - loss: 0.5929 - accuracy: 0.8017 - val_loss: 0.5824 - val_accuracy: 0.7956\n",
            "Epoch 7/40\n",
            "30/30 [==============================] - 1s 21ms/step - loss: 0.5500 - accuracy: 0.8176 - val_loss: 0.5421 - val_accuracy: 0.8112\n",
            "Epoch 8/40\n",
            "30/30 [==============================] - 1s 21ms/step - loss: 0.5057 - accuracy: 0.8390 - val_loss: 0.5024 - val_accuracy: 0.8258\n",
            "Epoch 9/40\n",
            "30/30 [==============================] - 1s 21ms/step - loss: 0.4628 - accuracy: 0.8532 - val_loss: 0.4664 - val_accuracy: 0.8354\n",
            "Epoch 10/40\n",
            "30/30 [==============================] - 1s 22ms/step - loss: 0.4242 - accuracy: 0.8657 - val_loss: 0.4337 - val_accuracy: 0.8460\n",
            "Epoch 11/40\n",
            "30/30 [==============================] - 1s 21ms/step - loss: 0.3897 - accuracy: 0.8762 - val_loss: 0.4072 - val_accuracy: 0.8522\n",
            "Epoch 12/40\n",
            "30/30 [==============================] - 1s 20ms/step - loss: 0.3605 - accuracy: 0.8833 - val_loss: 0.3844 - val_accuracy: 0.8600\n",
            "Epoch 13/40\n",
            "30/30 [==============================] - 1s 21ms/step - loss: 0.3359 - accuracy: 0.8911 - val_loss: 0.3665 - val_accuracy: 0.8642\n",
            "Epoch 14/40\n",
            "30/30 [==============================] - 1s 21ms/step - loss: 0.3140 - accuracy: 0.8966 - val_loss: 0.3514 - val_accuracy: 0.8689\n",
            "Epoch 15/40\n",
            "30/30 [==============================] - 1s 22ms/step - loss: 0.2954 - accuracy: 0.9013 - val_loss: 0.3390 - val_accuracy: 0.8731\n",
            "Epoch 16/40\n",
            "30/30 [==============================] - 1s 23ms/step - loss: 0.2794 - accuracy: 0.9073 - val_loss: 0.3294 - val_accuracy: 0.8753\n",
            "Epoch 17/40\n",
            "30/30 [==============================] - 1s 23ms/step - loss: 0.2649 - accuracy: 0.9109 - val_loss: 0.3209 - val_accuracy: 0.8755\n",
            "Epoch 18/40\n",
            "30/30 [==============================] - 1s 22ms/step - loss: 0.2516 - accuracy: 0.9147 - val_loss: 0.3136 - val_accuracy: 0.8798\n",
            "Epoch 19/40\n",
            "30/30 [==============================] - 1s 23ms/step - loss: 0.2402 - accuracy: 0.9185 - val_loss: 0.3077 - val_accuracy: 0.8802\n",
            "Epoch 20/40\n",
            "30/30 [==============================] - 1s 23ms/step - loss: 0.2289 - accuracy: 0.9219 - val_loss: 0.3027 - val_accuracy: 0.8815\n",
            "Epoch 21/40\n",
            "30/30 [==============================] - 1s 23ms/step - loss: 0.2184 - accuracy: 0.9261 - val_loss: 0.2995 - val_accuracy: 0.8819\n",
            "Epoch 22/40\n",
            "30/30 [==============================] - 1s 22ms/step - loss: 0.2095 - accuracy: 0.9291 - val_loss: 0.2952 - val_accuracy: 0.8825\n",
            "Epoch 23/40\n",
            "30/30 [==============================] - 1s 21ms/step - loss: 0.2008 - accuracy: 0.9327 - val_loss: 0.2927 - val_accuracy: 0.8838\n",
            "Epoch 24/40\n",
            "30/30 [==============================] - 1s 18ms/step - loss: 0.1927 - accuracy: 0.9349 - val_loss: 0.2906 - val_accuracy: 0.8844\n",
            "Epoch 25/40\n",
            "30/30 [==============================] - 1s 23ms/step - loss: 0.1858 - accuracy: 0.9387 - val_loss: 0.2899 - val_accuracy: 0.8833\n",
            "Epoch 26/40\n",
            "30/30 [==============================] - 1s 22ms/step - loss: 0.1777 - accuracy: 0.9426 - val_loss: 0.2873 - val_accuracy: 0.8848\n",
            "Epoch 27/40\n",
            "30/30 [==============================] - 1s 21ms/step - loss: 0.1706 - accuracy: 0.9461 - val_loss: 0.2869 - val_accuracy: 0.8857\n",
            "Epoch 28/40\n",
            "30/30 [==============================] - 1s 21ms/step - loss: 0.1639 - accuracy: 0.9481 - val_loss: 0.2863 - val_accuracy: 0.8853\n",
            "Epoch 29/40\n",
            "30/30 [==============================] - 1s 22ms/step - loss: 0.1579 - accuracy: 0.9514 - val_loss: 0.2868 - val_accuracy: 0.8849\n",
            "Epoch 30/40\n",
            "30/30 [==============================] - 1s 21ms/step - loss: 0.1523 - accuracy: 0.9535 - val_loss: 0.2860 - val_accuracy: 0.8867\n",
            "Epoch 31/40\n",
            "30/30 [==============================] - 1s 24ms/step - loss: 0.1469 - accuracy: 0.9551 - val_loss: 0.2874 - val_accuracy: 0.8848\n",
            "Epoch 32/40\n",
            "30/30 [==============================] - 1s 22ms/step - loss: 0.1415 - accuracy: 0.9571 - val_loss: 0.2873 - val_accuracy: 0.8867\n",
            "Epoch 33/40\n",
            "30/30 [==============================] - 1s 22ms/step - loss: 0.1360 - accuracy: 0.9601 - val_loss: 0.2884 - val_accuracy: 0.8870\n",
            "Epoch 34/40\n",
            "30/30 [==============================] - 1s 22ms/step - loss: 0.1314 - accuracy: 0.9613 - val_loss: 0.2897 - val_accuracy: 0.8863\n",
            "Epoch 35/40\n",
            "30/30 [==============================] - 1s 22ms/step - loss: 0.1264 - accuracy: 0.9643 - val_loss: 0.2914 - val_accuracy: 0.8863\n",
            "Epoch 36/40\n",
            "30/30 [==============================] - 1s 22ms/step - loss: 0.1222 - accuracy: 0.9653 - val_loss: 0.2931 - val_accuracy: 0.8850\n",
            "Epoch 37/40\n",
            "30/30 [==============================] - 1s 22ms/step - loss: 0.1178 - accuracy: 0.9670 - val_loss: 0.2957 - val_accuracy: 0.8842\n",
            "Epoch 38/40\n",
            "30/30 [==============================] - 1s 22ms/step - loss: 0.1135 - accuracy: 0.9686 - val_loss: 0.2965 - val_accuracy: 0.8854\n",
            "Epoch 39/40\n",
            "30/30 [==============================] - 1s 24ms/step - loss: 0.1097 - accuracy: 0.9701 - val_loss: 0.2987 - val_accuracy: 0.8853\n",
            "Epoch 40/40\n",
            "30/30 [==============================] - 1s 21ms/step - loss: 0.1060 - accuracy: 0.9709 - val_loss: 0.3008 - val_accuracy: 0.8852\n"
          ],
          "name": "stdout"
        }
      ]
    },
    {
      "cell_type": "markdown",
      "metadata": {
        "id": "gB8q_VgiNQfg",
        "colab_type": "text"
      },
      "source": [
        "### 모델 평가"
      ]
    },
    {
      "cell_type": "code",
      "metadata": {
        "id": "wf-irKisNTK5",
        "colab_type": "code",
        "colab": {
          "base_uri": "https://localhost:8080/",
          "height": 53
        },
        "outputId": "5370e3b0-2ad2-43c5-ebe6-cd1725afc813"
      },
      "source": [
        "results = model.evaluate(test_data,  test_labels, verbose=2)\n",
        "\n",
        "print(results)"
      ],
      "execution_count": 48,
      "outputs": [
        {
          "output_type": "stream",
          "text": [
            "782/782 - 1s - loss: 0.3191 - accuracy: 0.8736\n",
            "[0.3190530836582184, 0.8736400008201599]\n"
          ],
          "name": "stdout"
        }
      ]
    },
    {
      "cell_type": "markdown",
      "metadata": {
        "id": "9rTKhbHYNTYv",
        "colab_type": "text"
      },
      "source": [
        "### 정확도와 손실 그래프 그리기"
      ]
    },
    {
      "cell_type": "code",
      "metadata": {
        "id": "_oalnFy0NTb6",
        "colab_type": "code",
        "colab": {
          "base_uri": "https://localhost:8080/",
          "height": 35
        },
        "outputId": "ca028c05-4f99-4c0d-9559-c46793c724b4"
      },
      "source": [
        "history_dict = history.history\n",
        "history_dict.keys()"
      ],
      "execution_count": 49,
      "outputs": [
        {
          "output_type": "execute_result",
          "data": {
            "text/plain": [
              "dict_keys(['loss', 'accuracy', 'val_loss', 'val_accuracy'])"
            ]
          },
          "metadata": {
            "tags": []
          },
          "execution_count": 49
        }
      ]
    },
    {
      "cell_type": "code",
      "metadata": {
        "id": "MOoVLVzSNThy",
        "colab_type": "code",
        "colab": {
          "base_uri": "https://localhost:8080/",
          "height": 295
        },
        "outputId": "7079bc8b-59d9-4e74-9385-be0a8911a359"
      },
      "source": [
        "import matplotlib.pyplot as plt\n",
        "\n",
        "acc = history_dict['accuracy']\n",
        "val_acc = history_dict['val_accuracy']\n",
        "loss = history_dict['loss']\n",
        "val_loss = history_dict['val_loss']\n",
        "\n",
        "epochs = range(1, len(acc) + 1)\n",
        "\n",
        "# \"bo\"는 \"파란색 점\"입니다\n",
        "plt.plot(epochs, loss, 'bo', label='Training loss')\n",
        "# b는 \"파란 실선\"입니다\n",
        "plt.plot(epochs, val_loss, 'b', label='Validation loss')\n",
        "plt.title('Training and validation loss')\n",
        "plt.xlabel('Epochs')\n",
        "plt.ylabel('Loss')\n",
        "plt.legend()\n",
        "\n",
        "plt.show()"
      ],
      "execution_count": 50,
      "outputs": [
        {
          "output_type": "display_data",
          "data": {
            "image/png": "[encoded data removed]",
            "text/plain": [
              "<Figure size 432x288 with 1 Axes>"
            ]
          },
          "metadata": {
            "tags": [],
            "needs_background": "light"
          }
        }
      ]
    },
    {
      "cell_type": "code",
      "metadata": {
        "id": "4_s2lpC9NTlP",
        "colab_type": "code",
        "colab": {
          "base_uri": "https://localhost:8080/",
          "height": 295
        },
        "outputId": "a69c462c-d11b-492f-a097-abbf770d811e"
      },
      "source": [
        "plt.clf()   # 그림을 초기화합니다\n",
        "\n",
        "plt.plot(epochs, acc, 'bo', label='Training acc')\n",
        "plt.plot(epochs, val_acc, 'b', label='Validation acc')\n",
        "plt.title('Training and validation accuracy')\n",
        "plt.xlabel('Epochs')\n",
        "plt.ylabel('Accuracy')\n",
        "plt.legend()\n",
        "\n",
        "plt.show()"
      ],
      "execution_count": 51,
      "outputs": [
        {
          "output_type": "display_data",
          "data": {
            "image/png": "[encoded data removed]",
            "text/plain": [
              "<Figure size 432x288 with 1 Axes>"
            ]
          },
          "metadata": {
            "tags": [],
            "needs_background": "light"
          }
        }
      ]
    },
    {
      "cell_type": "markdown",
      "metadata": {
        "id": "3rXXe52kN98b",
        "colab_type": "text"
      },
      "source": [
        "- 회귀(regression)은 가격이나 확률과 같이 연속된 출력 값을 예측하는 것이 목적\n",
        "- 분류(classification)은 여러 개의 클래스 중 하나의 클래스를 선택하는 것이 목적"
      ]
    },
    {
      "cell_type": "code",
      "metadata": {
        "id": "4kn8q3svQLsq",
        "colab_type": "code",
        "colab": {}
      },
      "source": [
        ""
      ],
      "execution_count": 51,
      "outputs": []
    },
    {
      "cell_type": "markdown",
      "metadata": {
        "id": "48QemyhTQFj1",
        "colab_type": "text"
      },
      "source": [
        " 과대적합과 과소적합\n",
        "- 과대적합(Overfitting) : 훈련 세트에서는 높은 성능을 얻을 수 있지만, 테스트 세트(혹은 이전에 본 적 없는 데이터)에 잘 일반화가 되어야 한다.)\n",
        "- 과소적합(Underfitting) : 테스트 세트의 성능이 향상될 여지가 아직 있을 때 발생. (Ex) 모델이 너무 단순, 규제가 많음, 충분히 오래 훈련하지 않는 경우)"
      ]
    },
    {
      "cell_type": "markdown",
      "metadata": {
        "id": "lalizC9cXHm6",
        "colab_type": "text"
      },
      "source": [
        "## 모델 저장과 복원"
      ]
    },
    {
      "cell_type": "markdown",
      "metadata": {
        "id": "7mqvBsUfXNwO",
        "colab_type": "text"
      },
      "source": [
        "### 설정"
      ]
    },
    {
      "cell_type": "code",
      "metadata": {
        "id": "khEoP5zyXRFb",
        "colab_type": "code",
        "colab": {}
      },
      "source": [
        "!pip install -q h5py pyyaml"
      ],
      "execution_count": 52,
      "outputs": []
    },
    {
      "cell_type": "markdown",
      "metadata": {
        "id": "qJYVq4AFXSWi",
        "colab_type": "text"
      },
      "source": [
        "### 예제 데이터 셋 받기"
      ]
    },
    {
      "cell_type": "code",
      "metadata": {
        "id": "xg5WO2WXXT1o",
        "colab_type": "code",
        "colab": {
          "base_uri": "https://localhost:8080/",
          "height": 35
        },
        "outputId": "1e23d78b-eee5-445d-8832-7711d173a5d5"
      },
      "source": [
        "from __future__ import absolute_import, division, print_function, unicode_literals, unicode_literals\n",
        "\n",
        "import os\n",
        "\n",
        "import tensorflow as tf\n",
        "from tensorflow import keras\n",
        "\n",
        "tf.__version__"
      ],
      "execution_count": 53,
      "outputs": [
        {
          "output_type": "execute_result",
          "data": {
            "application/vnd.google.colaboratory.intrinsic": {
              "type": "string"
            },
            "text/plain": [
              "'2.2.0'"
            ]
          },
          "metadata": {
            "tags": []
          },
          "execution_count": 53
        }
      ]
    },
    {
      "cell_type": "code",
      "metadata": {
        "id": "B1TISuhZXT5m",
        "colab_type": "code",
        "colab": {}
      },
      "source": [
        "(train_images, train_labels), (test_images, test_labels) = tf.keras.datasets.mnist.load_data()\n",
        "\n",
        "train_labels = train_labels[:1000]\n",
        "test_labels = test_labels[:1000]\n",
        "\n",
        "train_images = train_images[:1000].reshape(-1, 28 * 28) / 255.0\n",
        "test_images = test_images[:1000].reshape(-1, 28 * 28) / 255.0"
      ],
      "execution_count": 54,
      "outputs": []
    },
    {
      "cell_type": "markdown",
      "metadata": {
        "id": "YppnJqA4X17i",
        "colab_type": "text"
      },
      "source": [
        "### 모델 정의"
      ]
    },
    {
      "cell_type": "code",
      "metadata": {
        "id": "3zFtpiYlXT9O",
        "colab_type": "code",
        "colab": {
          "base_uri": "https://localhost:8080/",
          "height": 269
        },
        "outputId": "351c4fb4-4045-4eef-aef7-e0f4c6f6dde5"
      },
      "source": [
        "# 간단한 Sequential 모델을 반환합니다\n",
        "def create_model():\n",
        "  model = tf.keras.models.Sequential([\n",
        "    keras.layers.Dense(512, activation='relu', input_shape=(784,)),\n",
        "    keras.layers.Dropout(0.2),\n",
        "    keras.layers.Dense(10, activation='softmax')\n",
        "  ])\n",
        "\n",
        "  model.compile(optimizer='adam',\n",
        "                loss='sparse_categorical_crossentropy',\n",
        "                metrics=['accuracy'])\n",
        "\n",
        "  return model\n",
        "\n",
        "\n",
        "# 모델 객체를 만듭니다\n",
        "model = create_model()\n",
        "model.summary()"
      ],
      "execution_count": 55,
      "outputs": [
        {
          "output_type": "stream",
          "text": [
            "Model: \"sequential_2\"\n",
            "_________________________________________________________________\n",
            "Layer (type)                 Output Shape              Param #   \n",
            "=================================================================\n",
            "dense_4 (Dense)              (None, 512)               401920    \n",
            "_________________________________________________________________\n",
            "dropout (Dropout)            (None, 512)               0         \n",
            "_________________________________________________________________\n",
            "dense_5 (Dense)              (None, 10)                5130      \n",
            "=================================================================\n",
            "Total params: 407,050\n",
            "Trainable params: 407,050\n",
            "Non-trainable params: 0\n",
            "_________________________________________________________________\n"
          ],
          "name": "stdout"
        }
      ]
    },
    {
      "cell_type": "markdown",
      "metadata": {
        "id": "W3pTB4LwXUAn",
        "colab_type": "text"
      },
      "source": [
        "### 훈련하는 동안 체크포인트 저장\n",
        "- 체크포인트 콜백 사용"
      ]
    },
    {
      "cell_type": "code",
      "metadata": {
        "id": "OeSKP1R7XUDu",
        "colab_type": "code",
        "colab": {
          "base_uri": "https://localhost:8080/",
          "height": 755
        },
        "outputId": "9975f6fb-4800-4764-f770-21a8070bb7ef"
      },
      "source": [
        "checkpoint_path = \"training_1/cp.ckpt\"\n",
        "checkpoint_dir = os.path.dirname(checkpoint_path)\n",
        "\n",
        "# 체크포인트 콜백 만들기\n",
        "cp_callback = tf.keras.callbacks.ModelCheckpoint(checkpoint_path,\n",
        "                                                 save_weights_only=True,\n",
        "                                                 verbose=1)\n",
        "\n",
        "model = create_model()\n",
        "\n",
        "model.fit(train_images, train_labels,  epochs = 10,\n",
        "          validation_data = (test_images,test_labels),\n",
        "          callbacks = [cp_callback])  # 훈련 단계에 콜백을 전달합니다\n",
        "\n",
        "# 옵티마이저의 상태를 저장하는 것과 관련되어 경고가 발생할 수 있습니다.\n",
        "# 이 경고는 (그리고 이 노트북의 다른 비슷한 경고는) 이전 사용 방식을 권장하지 않기 위함이며 무시해도 좋습니다."
      ],
      "execution_count": 56,
      "outputs": [
        {
          "output_type": "stream",
          "text": [
            "Epoch 1/10\n",
            "25/32 [======================>.......] - ETA: 0s - loss: 1.2869 - accuracy: 0.6313\n",
            "Epoch 00001: saving model to training_1/cp.ckpt\n",
            "32/32 [==============================] - 0s 11ms/step - loss: 1.1603 - accuracy: 0.6660 - val_loss: 0.6925 - val_accuracy: 0.7830\n",
            "Epoch 2/10\n",
            "26/32 [=======================>......] - ETA: 0s - loss: 0.4226 - accuracy: 0.8870\n",
            "Epoch 00002: saving model to training_1/cp.ckpt\n",
            "32/32 [==============================] - 0s 8ms/step - loss: 0.4194 - accuracy: 0.8910 - val_loss: 0.5349 - val_accuracy: 0.8280\n",
            "Epoch 3/10\n",
            "25/32 [======================>.......] - ETA: 0s - loss: 0.3019 - accuracy: 0.9150\n",
            "Epoch 00003: saving model to training_1/cp.ckpt\n",
            "32/32 [==============================] - 0s 8ms/step - loss: 0.2830 - accuracy: 0.9210 - val_loss: 0.4510 - val_accuracy: 0.8590\n",
            "Epoch 4/10\n",
            "27/32 [========================>.....] - ETA: 0s - loss: 0.2053 - accuracy: 0.9479\n",
            "Epoch 00004: saving model to training_1/cp.ckpt\n",
            "32/32 [==============================] - 0s 8ms/step - loss: 0.1989 - accuracy: 0.9520 - val_loss: 0.4335 - val_accuracy: 0.8620\n",
            "Epoch 5/10\n",
            "25/32 [======================>.......] - ETA: 0s - loss: 0.1643 - accuracy: 0.9675\n",
            "Epoch 00005: saving model to training_1/cp.ckpt\n",
            "32/32 [==============================] - 0s 8ms/step - loss: 0.1585 - accuracy: 0.9670 - val_loss: 0.4280 - val_accuracy: 0.8610\n",
            "Epoch 6/10\n",
            "25/32 [======================>.......] - ETA: 0s - loss: 0.1055 - accuracy: 0.9850\n",
            "Epoch 00006: saving model to training_1/cp.ckpt\n",
            "32/32 [==============================] - 0s 8ms/step - loss: 0.1110 - accuracy: 0.9820 - val_loss: 0.4018 - val_accuracy: 0.8700\n",
            "Epoch 7/10\n",
            "26/32 [=======================>......] - ETA: 0s - loss: 0.0783 - accuracy: 0.9880\n",
            "Epoch 00007: saving model to training_1/cp.ckpt\n",
            "32/32 [==============================] - 0s 8ms/step - loss: 0.0781 - accuracy: 0.9890 - val_loss: 0.4134 - val_accuracy: 0.8580\n",
            "Epoch 8/10\n",
            "28/32 [=========================>....] - ETA: 0s - loss: 0.0665 - accuracy: 0.9911\n",
            "Epoch 00008: saving model to training_1/cp.ckpt\n",
            "32/32 [==============================] - 0s 7ms/step - loss: 0.0667 - accuracy: 0.9900 - val_loss: 0.4211 - val_accuracy: 0.8580\n",
            "Epoch 9/10\n",
            "25/32 [======================>.......] - ETA: 0s - loss: 0.0494 - accuracy: 0.9962\n",
            "Epoch 00009: saving model to training_1/cp.ckpt\n",
            "32/32 [==============================] - 0s 7ms/step - loss: 0.0512 - accuracy: 0.9950 - val_loss: 0.4147 - val_accuracy: 0.8650\n",
            "Epoch 10/10\n",
            "22/32 [===================>..........] - ETA: 0s - loss: 0.0370 - accuracy: 0.9986\n",
            "Epoch 00010: saving model to training_1/cp.ckpt\n",
            "32/32 [==============================] - 0s 8ms/step - loss: 0.0385 - accuracy: 0.9990 - val_loss: 0.4065 - val_accuracy: 0.8710\n"
          ],
          "name": "stdout"
        },
        {
          "output_type": "execute_result",
          "data": {
            "text/plain": [
              "<tensorflow.python.keras.callbacks.History at 0x7f46dfe0ec88>"
            ]
          },
          "metadata": {
            "tags": []
          },
          "execution_count": 56
        }
      ]
    },
    {
      "cell_type": "code",
      "metadata": {
        "id": "wFcjXj_VXS00",
        "colab_type": "code",
        "colab": {
          "base_uri": "https://localhost:8080/",
          "height": 35
        },
        "outputId": "f77b883f-8d6b-47c2-b954-889c976a3230"
      },
      "source": [
        "# 이 코드는 텐서플로 체크포인트 파일을 만들고 에포크가 종료될 때마다 업데이트합니다:\n",
        "!ls {checkpoint_dir}"
      ],
      "execution_count": 57,
      "outputs": [
        {
          "output_type": "stream",
          "text": [
            "checkpoint  cp.ckpt.data-00000-of-00001  cp.ckpt.index\n"
          ],
          "name": "stdout"
        }
      ]
    },
    {
      "cell_type": "code",
      "metadata": {
        "id": "k19H3VkvYJ1v",
        "colab_type": "code",
        "colab": {
          "base_uri": "https://localhost:8080/",
          "height": 53
        },
        "outputId": "40a8c27a-80eb-41f0-a92a-5eef9b2eeae1"
      },
      "source": [
        "# 훈련되지 않은 모델 (무작위나 다름없음)\n",
        "model = create_model()\n",
        "\n",
        "loss, acc = model.evaluate(test_images,  test_labels, verbose=2)\n",
        "print(\"훈련되지 않은 모델의 정확도: {:5.2f}%\".format(100*acc))"
      ],
      "execution_count": 58,
      "outputs": [
        {
          "output_type": "stream",
          "text": [
            "32/32 - 0s - loss: 2.3287 - accuracy: 0.1330\n",
            "훈련되지 않은 모델의 정확도: 13.30%\n"
          ],
          "name": "stdout"
        }
      ]
    },
    {
      "cell_type": "code",
      "metadata": {
        "id": "IPDtlgxbYPgq",
        "colab_type": "code",
        "colab": {
          "base_uri": "https://localhost:8080/",
          "height": 53
        },
        "outputId": "0f3bf146-6c6b-43e7-8f53-aab7fcceb405"
      },
      "source": [
        "# 체크포인트에서 가중치를 복원하고 다시 평가한 모델\n",
        "model.load_weights(checkpoint_path)\n",
        "loss,acc = model.evaluate(test_images,  test_labels, verbose=2)\n",
        "print(\"복원된 모델의 정확도: {:5.2f}%\".format(100*acc))"
      ],
      "execution_count": 59,
      "outputs": [
        {
          "output_type": "stream",
          "text": [
            "32/32 - 0s - loss: 0.4065 - accuracy: 0.8710\n",
            "복원된 모델의 정확도: 87.10%\n"
          ],
          "name": "stdout"
        }
      ]
    },
    {
      "cell_type": "markdown",
      "metadata": {
        "id": "dgt4bLYQYZ65",
        "colab_type": "text"
      },
      "source": [
        "#### 체크포인트 콜백 매개변수\n",
        "- 몇가지 매개변수를 제공함, 체크포인트 이름을 고유하게 만들거나, 체크포인트 주기를 조정할 수 있다."
      ]
    },
    {
      "cell_type": "code",
      "metadata": {
        "id": "dr8Sjt9EYl0W",
        "colab_type": "code",
        "colab": {
          "base_uri": "https://localhost:8080/",
          "height": 413
        },
        "outputId": "42b10984-2193-4515-810c-daebbc3df9ae"
      },
      "source": [
        "# 새로운 모델을 훈련, 5번의 epoch마다 고유한 이름으로 체크포인트를 저장\n",
        "# 파일 이름에 에포크 번호를 포함시킵니다(`str.format` 포맷)\n",
        "checkpoint_path = \"training_2/cp-{epoch:04d}.ckpt\"\n",
        "checkpoint_dir = os.path.dirname(checkpoint_path)\n",
        "\n",
        "cp_callback = tf.keras.callbacks.ModelCheckpoint(\n",
        "    checkpoint_path, verbose=1, save_weights_only=True,\n",
        "    # 다섯 번째 에포크마다 가중치를 저장합니다\n",
        "    period=5)\n",
        "\n",
        "model = create_model()\n",
        "model.save_weights(checkpoint_path.format(epoch=0))\n",
        "model.fit(train_images, train_labels,\n",
        "          epochs = 50, callbacks = [cp_callback],\n",
        "          validation_data = (test_images,test_labels),\n",
        "          verbose=0)"
      ],
      "execution_count": 60,
      "outputs": [
        {
          "output_type": "stream",
          "text": [
            "WARNING:tensorflow:`period` argument is deprecated. Please use `save_freq` to specify the frequency in number of batches seen.\n",
            "\n",
            "Epoch 00005: saving model to training_2/cp-0005.ckpt\n",
            "\n",
            "Epoch 00010: saving model to training_2/cp-0010.ckpt\n",
            "\n",
            "Epoch 00015: saving model to training_2/cp-0015.ckpt\n",
            "\n",
            "Epoch 00020: saving model to training_2/cp-0020.ckpt\n",
            "\n",
            "Epoch 00025: saving model to training_2/cp-0025.ckpt\n",
            "\n",
            "Epoch 00030: saving model to training_2/cp-0030.ckpt\n",
            "\n",
            "Epoch 00035: saving model to training_2/cp-0035.ckpt\n",
            "\n",
            "Epoch 00040: saving model to training_2/cp-0040.ckpt\n",
            "\n",
            "Epoch 00045: saving model to training_2/cp-0045.ckpt\n",
            "\n",
            "Epoch 00050: saving model to training_2/cp-0050.ckpt\n"
          ],
          "name": "stdout"
        },
        {
          "output_type": "execute_result",
          "data": {
            "text/plain": [
              "<tensorflow.python.keras.callbacks.History at 0x7f46d1e3efd0>"
            ]
          },
          "metadata": {
            "tags": []
          },
          "execution_count": 60
        }
      ]
    },
    {
      "cell_type": "code",
      "metadata": {
        "id": "UyOnxsUKYwSe",
        "colab_type": "code",
        "colab": {
          "base_uri": "https://localhost:8080/",
          "height": 233
        },
        "outputId": "c181ea37-93fc-4212-ce10-cce71e8d044e"
      },
      "source": [
        "# 만들어진 체크포인트 확인, 마지막 체크포인트 선택\n",
        "! ls {checkpoint_dir}"
      ],
      "execution_count": 61,
      "outputs": [
        {
          "output_type": "stream",
          "text": [
            "checkpoint\t\t\t  cp-0025.ckpt.index\n",
            "cp-0000.ckpt.data-00000-of-00001  cp-0030.ckpt.data-00000-of-00001\n",
            "cp-0000.ckpt.index\t\t  cp-0030.ckpt.index\n",
            "cp-0005.ckpt.data-00000-of-00001  cp-0035.ckpt.data-00000-of-00001\n",
            "cp-0005.ckpt.index\t\t  cp-0035.ckpt.index\n",
            "cp-0010.ckpt.data-00000-of-00001  cp-0040.ckpt.data-00000-of-00001\n",
            "cp-0010.ckpt.index\t\t  cp-0040.ckpt.index\n",
            "cp-0015.ckpt.data-00000-of-00001  cp-0045.ckpt.data-00000-of-00001\n",
            "cp-0015.ckpt.index\t\t  cp-0045.ckpt.index\n",
            "cp-0020.ckpt.data-00000-of-00001  cp-0050.ckpt.data-00000-of-00001\n",
            "cp-0020.ckpt.index\t\t  cp-0050.ckpt.index\n",
            "cp-0025.ckpt.data-00000-of-00001\n"
          ],
          "name": "stdout"
        }
      ]
    },
    {
      "cell_type": "code",
      "metadata": {
        "id": "UnyexEHiY2if",
        "colab_type": "code",
        "colab": {
          "base_uri": "https://localhost:8080/",
          "height": 35
        },
        "outputId": "e4b0b5b9-18b0-4188-ddf7-191a76a3cb4c"
      },
      "source": [
        "latest = tf.train.latest_checkpoint(checkpoint_dir)\n",
        "latest"
      ],
      "execution_count": 62,
      "outputs": [
        {
          "output_type": "execute_result",
          "data": {
            "application/vnd.google.colaboratory.intrinsic": {
              "type": "string"
            },
            "text/plain": [
              "'training_2/cp-0050.ckpt'"
            ]
          },
          "metadata": {
            "tags": []
          },
          "execution_count": 62
        }
      ]
    },
    {
      "cell_type": "markdown",
      "metadata": {
        "id": "RA2MTIBkY5KK",
        "colab_type": "text"
      },
      "source": [
        "텐서플로우는 기본적으로 최근 5개의 체크포인트만 저장한다. "
      ]
    },
    {
      "cell_type": "code",
      "metadata": {
        "id": "u8MdO4fGY8Kc",
        "colab_type": "code",
        "colab": {
          "base_uri": "https://localhost:8080/",
          "height": 53
        },
        "outputId": "e9da6a6b-b7fa-4c11-cc36-bf736e87adca"
      },
      "source": [
        "model = create_model()\n",
        "model.load_weights(latest)\n",
        "loss, acc = model.evaluate(test_images, test_labels, verbose = 2)\n",
        "print('복원된 모델의 정확도 : {:5.2f}%'.format(100*acc))"
      ],
      "execution_count": 63,
      "outputs": [
        {
          "output_type": "stream",
          "text": [
            "32/32 - 0s - loss: 0.4921 - accuracy: 0.8770\n",
            "복원된 모델의 정확도 : 87.70%\n"
          ],
          "name": "stdout"
        }
      ]
    },
    {
      "cell_type": "markdown",
      "metadata": {
        "id": "F0kbyrzSY91S",
        "colab_type": "text"
      },
      "source": [
        "### 체크포인트 파일\n",
        "위 코드는 일련의 체크포인트 포맷의 파일에 저장한다. 이 파일이 포함하는 것은 훈련된 이진 format의 가중치이다. 체크포인트가 담고 있는 것은\n",
        "- 모델의 가중치를 포함하는 하나 이상의 샤드\n",
        "- 가중치가 어느 샤드에 저장되어 있는지를 나타내는 인덱스 파일\n",
        "\n",
        "** 샤드 : 대량의 데이터를 처리하기 위해서 파티셔닝 된 개별의 것들"
      ]
    },
    {
      "cell_type": "markdown",
      "metadata": {
        "id": "4OF79PhQbAtd",
        "colab_type": "text"
      },
      "source": [
        "### 수동으로 가중치 저장하기\n",
        "- Model.save_weights 를 사용한다."
      ]
    },
    {
      "cell_type": "code",
      "metadata": {
        "id": "si4moFbRbHO1",
        "colab_type": "code",
        "colab": {
          "base_uri": "https://localhost:8080/",
          "height": 289
        },
        "outputId": "f59032f0-6503-4141-ab2c-c6a870608239"
      },
      "source": [
        "# 가중치를 저장합니다\n",
        "model.save_weights('./checkpoints/my_checkpoint')\n",
        "\n",
        "# 가중치를 복원합니다\n",
        "model = create_model()\n",
        "model.load_weights('./checkpoints/my_checkpoint')\n",
        "\n",
        "loss,acc = model.evaluate(test_images,  test_labels, verbose=2)\n",
        "print(\"복원된 모델의 정확도: {:5.2f}%\".format(100*acc))"
      ],
      "execution_count": 64,
      "outputs": [
        {
          "output_type": "stream",
          "text": [
            "WARNING:tensorflow:Unresolved object in checkpoint: (root).optimizer.iter\n",
            "WARNING:tensorflow:Unresolved object in checkpoint: (root).optimizer.beta_1\n",
            "WARNING:tensorflow:Unresolved object in checkpoint: (root).optimizer.beta_2\n",
            "WARNING:tensorflow:Unresolved object in checkpoint: (root).optimizer.decay\n",
            "WARNING:tensorflow:Unresolved object in checkpoint: (root).optimizer.learning_rate\n",
            "WARNING:tensorflow:A checkpoint was restored (e.g. tf.train.Checkpoint.restore or tf.keras.Model.load_weights) but not all checkpointed values were used. See above for specific issues. Use expect_partial() on the load status object, e.g. tf.train.Checkpoint.restore(...).expect_partial(), to silence these warnings, or use assert_consumed() to make the check explicit. See https://www.tensorflow.org/guide/checkpoint#loading_mechanics for details.\n",
            "WARNING:tensorflow:Unresolved object in checkpoint: (root).optimizer.iter\n",
            "WARNING:tensorflow:Unresolved object in checkpoint: (root).optimizer.beta_1\n",
            "WARNING:tensorflow:Unresolved object in checkpoint: (root).optimizer.beta_2\n",
            "WARNING:tensorflow:Unresolved object in checkpoint: (root).optimizer.decay\n",
            "WARNING:tensorflow:Unresolved object in checkpoint: (root).optimizer.learning_rate\n",
            "WARNING:tensorflow:A checkpoint was restored (e.g. tf.train.Checkpoint.restore or tf.keras.Model.load_weights) but not all checkpointed values were used. See above for specific issues. Use expect_partial() on the load status object, e.g. tf.train.Checkpoint.restore(...).expect_partial(), to silence these warnings, or use assert_consumed() to make the check explicit. See https://www.tensorflow.org/guide/checkpoint#loading_mechanics for details.\n",
            "32/32 - 0s - loss: 0.4921 - accuracy: 0.8770\n",
            "복원된 모델의 정확도: 87.70%\n"
          ],
          "name": "stdout"
        }
      ]
    },
    {
      "cell_type": "markdown",
      "metadata": {
        "id": "HgFG33eabBpl",
        "colab_type": "text"
      },
      "source": [
        "### 모델 전체를 저장하기\n",
        "- 전체 모델을 파일 하나에 저장할 수 있다. 여기에는 가중치, 모델 구성, 심지어 옵티마이저에 지정한 설정까지\n",
        "포함된다. 모델의 체크포인트를 저장하므로 원본 코드를 사용하지 않고 나중에 정확히 동일한 상태에서 훈련을 다시 시작할 수 있다"
      ]
    },
    {
      "cell_type": "markdown",
      "metadata": {
        "id": "wIVkKauvbBtJ",
        "colab_type": "text"
      },
      "source": [
        "#### HDF5 파일로 저장하기"
      ]
    },
    {
      "cell_type": "code",
      "metadata": {
        "id": "PhtK_MoEbBvv",
        "colab_type": "code",
        "colab": {
          "base_uri": "https://localhost:8080/",
          "height": 197
        },
        "outputId": "1a6085c8-06ff-436a-fefa-3d109f7433a7"
      },
      "source": [
        "model = create_model()\n",
        "\n",
        "model.fit(train_images, train_labels, epochs=5)\n",
        "\n",
        "# 전체 모델을 HDF5 파일로 저장합니다\n",
        "model.save('my_model.h5')"
      ],
      "execution_count": 65,
      "outputs": [
        {
          "output_type": "stream",
          "text": [
            "Epoch 1/5\n",
            "32/32 [==============================] - 0s 4ms/step - loss: 1.1595 - accuracy: 0.6800\n",
            "Epoch 2/5\n",
            "32/32 [==============================] - 0s 4ms/step - loss: 0.4222 - accuracy: 0.8770\n",
            "Epoch 3/5\n",
            "32/32 [==============================] - 0s 4ms/step - loss: 0.2808 - accuracy: 0.9300\n",
            "Epoch 4/5\n",
            "32/32 [==============================] - 0s 5ms/step - loss: 0.1966 - accuracy: 0.9530\n",
            "Epoch 5/5\n",
            "32/32 [==============================] - 0s 4ms/step - loss: 0.1520 - accuracy: 0.9680\n"
          ],
          "name": "stdout"
        }
      ]
    },
    {
      "cell_type": "code",
      "metadata": {
        "id": "5evU8QIHbCPd",
        "colab_type": "code",
        "colab": {
          "base_uri": "https://localhost:8080/",
          "height": 269
        },
        "outputId": "69cbb5cf-2623-4a59-9c49-3d79f27921bc"
      },
      "source": [
        "# 이 파일로부터 다시 모델 만들기\n",
        "# 가중치와 옵티마이저를 포함하여 정확히 동일한 모델을 다시 생성합니다\n",
        "new_model = keras.models.load_model('my_model.h5')\n",
        "new_model.summary()"
      ],
      "execution_count": 66,
      "outputs": [
        {
          "output_type": "stream",
          "text": [
            "Model: \"sequential_8\"\n",
            "_________________________________________________________________\n",
            "Layer (type)                 Output Shape              Param #   \n",
            "=================================================================\n",
            "dense_16 (Dense)             (None, 512)               401920    \n",
            "_________________________________________________________________\n",
            "dropout_6 (Dropout)          (None, 512)               0         \n",
            "_________________________________________________________________\n",
            "dense_17 (Dense)             (None, 10)                5130      \n",
            "=================================================================\n",
            "Total params: 407,050\n",
            "Trainable params: 407,050\n",
            "Non-trainable params: 0\n",
            "_________________________________________________________________\n"
          ],
          "name": "stdout"
        }
      ]
    },
    {
      "cell_type": "code",
      "metadata": {
        "id": "RxXHzE5BbCT_",
        "colab_type": "code",
        "colab": {
          "base_uri": "https://localhost:8080/",
          "height": 53
        },
        "outputId": "2d3d850f-0a81-409f-dd2b-54e07c2680f9"
      },
      "source": [
        "loss, acc = new_model.evaluate(test_images,  test_labels, verbose=2)\n",
        "print(\"복원된 모델의 정확도: {:5.2f}%\".format(100*acc))"
      ],
      "execution_count": 67,
      "outputs": [
        {
          "output_type": "stream",
          "text": [
            "32/32 - 0s - loss: 0.4279 - accuracy: 0.8650\n",
            "복원된 모델의 정확도: 86.50%\n"
          ],
          "name": "stdout"
        }
      ]
    },
    {
      "cell_type": "markdown",
      "metadata": {
        "id": "77HWEe-dbCM2",
        "colab_type": "text"
      },
      "source": [
        "- 가중치 값\n",
        "- 모델 설정(구조)\n",
        "- 옵티마이저 설정"
      ]
    }
  ]
}